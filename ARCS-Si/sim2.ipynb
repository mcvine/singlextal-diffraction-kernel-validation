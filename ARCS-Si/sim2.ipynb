{
 "cells": [
  {
   "cell_type": "markdown",
   "metadata": {},
   "source": [
    "# Workdir"
   ]
  },
  {
   "cell_type": "code",
   "execution_count": 1,
   "metadata": {},
   "outputs": [],
   "source": [
    "workdir = '/home/97n/simulations/ARCS/Si/singlextal-diffraction-2/'"
   ]
  },
  {
   "cell_type": "code",
   "execution_count": 2,
   "metadata": {},
   "outputs": [
    {
     "name": "stdout",
     "output_type": "stream",
     "text": [
      "/home/97n/simulations/ARCS/Si/singlextal-diffraction-2\n"
     ]
    }
   ],
   "source": [
    "!mkdir -p {workdir}\n",
    "%cd {workdir}"
   ]
  },
  {
   "cell_type": "markdown",
   "metadata": {},
   "source": [
    "# Tools"
   ]
  },
  {
   "cell_type": "code",
   "execution_count": 3,
   "metadata": {},
   "outputs": [],
   "source": [
    "import tqdm"
   ]
  },
  {
   "cell_type": "code",
   "execution_count": 4,
   "metadata": {},
   "outputs": [
    {
     "name": "stderr",
     "output_type": "stream",
     "text": [
      "/home/97n/miniconda3/envs/mcvine-py36/lib/python3.6/site-packages/h5py/__init__.py:36: FutureWarning: Conversion of the second argument of issubdtype from `float` to `np.floating` is deprecated. In future, it will be treated as `np.float64 == np.dtype(float).type`.\n",
      "  from ._conv import register_converters as _register_converters\n"
     ]
    }
   ],
   "source": [
    "from matplotlib import pyplot as plt\n",
    "import numpy as np, os\n",
    "import histogram.hdf as hh, histogram as H"
   ]
  },
  {
   "cell_type": "code",
   "execution_count": 44,
   "metadata": {},
   "outputs": [],
   "source": [
    "%matplotlib notebook\n",
    "# %matplotlib inline"
   ]
  },
  {
   "cell_type": "markdown",
   "metadata": {},
   "source": [
    "# Sample spec"
   ]
  },
  {
   "cell_type": "code",
   "execution_count": 5,
   "metadata": {},
   "outputs": [
    {
     "name": "stdout",
     "output_type": "stream",
     "text": [
      "/home/97n/simulations/ARCS/Si/singlextal-diffraction-2\n"
     ]
    }
   ],
   "source": [
    "cd {workdir}"
   ]
  },
  {
   "cell_type": "code",
   "execution_count": 7,
   "metadata": {},
   "outputs": [
    {
     "name": "stdout",
     "output_type": "stream",
     "text": [
      "Writing Si.yml\n"
     ]
    }
   ],
   "source": [
    "%%file Si.yml\n",
    "name: Si\n",
    "chemical_formula: Si #\n",
    "lattice: \n",
    " constants: 5.431, 5.431, 5.431, 90, 90, 90\n",
    " basis_vectors:\n",
    "  - 5.431, 0, 0\n",
    "  - 0, 5.431, 0\n",
    "  - 0, 0, 5.431\n",
    "excitation:\n",
    " type: singlecrystal_diffraction\n",
    " Dd_over_d: 1.e-4\n",
    " mosaic: 5./60*deg\n",
    " lau_path: Si.lau\n",
    "orientation:\n",
    " u: 1, 1, 0\n",
    " v: 0, 0, 1\n",
    "shape: hollowCylinder in_radius=\"5./8*inch\" out_radius=\"1.*inch\" height=\"1.5*inch\"\n",
    "temperature: 300*K"
   ]
  },
  {
   "cell_type": "code",
   "execution_count": 8,
   "metadata": {},
   "outputs": [],
   "source": [
    "!cp /home/97n/dv/mcvine/mcvine/packages/mccomponents/tests/mccomponents/sample/diffraction/Si.cif .\n",
    "!cp /home/97n/dv/mcvine/mcvine/packages/mccomponents/tests/mccomponents/sample/diffraction/Si.lau ."
   ]
  },
  {
   "cell_type": "markdown",
   "metadata": {},
   "source": [
    "# Workflow"
   ]
  },
  {
   "cell_type": "code",
   "execution_count": 29,
   "metadata": {},
   "outputs": [
    {
     "name": "stdout",
     "output_type": "stream",
     "text": [
      "/home/97n/simulations/ARCS/Si/singlextal-diffraction-2\n"
     ]
    }
   ],
   "source": [
    "cd {workdir}"
   ]
  },
  {
   "cell_type": "code",
   "execution_count": 30,
   "metadata": {},
   "outputs": [],
   "source": [
    "rm -rf sim/"
   ]
  },
  {
   "cell_type": "code",
   "execution_count": 31,
   "metadata": {},
   "outputs": [
    {
     "name": "stdout",
     "output_type": "stream",
     "text": [
      "/home/97n/miniconda3/envs/mcvine-py36/lib/python3.6/site-packages/mcvine/workflow/sampleassembly/scaffolding/sampleassembly_xml.py:22: UserWarning: assume average temperature\r\n",
      "  warnings.warn(\"assume average temperature\")\r\n"
     ]
    }
   ],
   "source": [
    "!mcvine workflow singlecrystal --instrument=arcs --sample=Si.yml --outdir=sim --type=DGS"
   ]
  },
  {
   "cell_type": "markdown",
   "metadata": {},
   "source": [
    "# Fine tune sample"
   ]
  },
  {
   "cell_type": "code",
   "execution_count": 51,
   "metadata": {},
   "outputs": [
    {
     "name": "stdout",
     "output_type": "stream",
     "text": [
      "/home/97n/simulations/ARCS/Si/singlextal-diffraction-2\n"
     ]
    }
   ],
   "source": [
    "cd {workdir}"
   ]
  },
  {
   "cell_type": "code",
   "execution_count": 32,
   "metadata": {},
   "outputs": [
    {
     "name": "stdout",
     "output_type": "stream",
     "text": [
      "sampleassembly.xml  Si-scatterer.xml  Si.xyz\r\n"
     ]
    }
   ],
   "source": [
    "ls sim/sampleassembly/"
   ]
  },
  {
   "cell_type": "code",
   "execution_count": 52,
   "metadata": {},
   "outputs": [],
   "source": [
    "!cp Si.cif sim/sampleassembly/\n",
    "!cp Si.lau sim/sampleassembly/"
   ]
  },
  {
   "cell_type": "code",
   "execution_count": 33,
   "metadata": {},
   "outputs": [
    {
     "name": "stdout",
     "output_type": "stream",
     "text": [
      "Overwriting sim/sampleassembly/sampleassembly.xml\n"
     ]
    }
   ],
   "source": [
    "%%file sim/sampleassembly/sampleassembly.xml\n",
    "<?xml version=\"1.0\"?>\n",
    "\n",
    "<!DOCTYPE SampleAssembly>\n",
    "\n",
    "<SampleAssembly name=\"X\"\n",
    "   max_multiplescattering_loops_among_scatterers=\"1\"\n",
    "   max_multiplescattering_loops_interactM_path1=\"4\"\n",
    "   min_neutron_probability=\".1\"\n",
    " >\n",
    "\n",
    "  <PowderSample name=\"Si\" type=\"sample\">\n",
    "    <Shape>\n",
    "      <hollowCylinder in_radius=\"5./8*inch\" out_radius=\"1.*inch\" height=\"1.5*inch\" />\n",
    "    </Shape>\n",
    "    <Phase type=\"crystal\">\n",
    "      <ChemicalFormula>Si</ChemicalFormula>\n",
    "      <ciffile>Si.cif</ciffile>\n",
    "    </Phase>\n",
    "  </PowderSample>\n",
    "\n",
    "  <LocalGeometer registry-coordinate-system=\"InstrumentScientist\">\n",
    "    <Register name=\"Si\" position=\"(0,0,0)\" orientation=\"(0, 0, 0)\"/>\n",
    "  </LocalGeometer>\n",
    "\n",
    "  <Environment temperature=\"300*K\"/>\n",
    "\n",
    "</SampleAssembly>"
   ]
  },
  {
   "cell_type": "code",
   "execution_count": 34,
   "metadata": {},
   "outputs": [
    {
     "name": "stdout",
     "output_type": "stream",
     "text": [
      "<?xml version=\"1.0\"?>\r\n",
      "\r\n",
      "<!DOCTYPE scatterer>\r\n",
      "\r\n",
      "<!-- weights: absorption, scattering, transmission -->\r\n",
      "<homogeneous_scatterer \r\n",
      "  mcweights=\"0, 1, 0.1\"\r\n",
      "  max_multiplescattering_loops=\"3\"\r\n",
      "  packing_factor=\"1.0\"\r\n",
      "  >\r\n",
      "  \r\n",
      "  <KernelContainer average=\"yes\">\r\n",
      "\r\n",
      "\r\n",
      "    <!-- a simple kernel for elastic scattering. more realistic kernel exists. -->\r\n",
      "    <E_Q_Kernel \r\n",
      "\tE_Q=\"1\" \r\n",
      "\tS_Q=\"1\"\r\n",
      "\tQmin=\"0./angstrom\"\r\n",
      "\tQmax=\"16./angstrom\"\r\n",
      "\t/>\r\n",
      "\r\n",
      "\r\n",
      "      <SingleCrystalDiffractionKernel\r\n",
      "        weight=\"1.\"\r\n",
      "        orientation=\"-0.0,0.0,1.0000000000000002,0.7071067811865476,-0.7071067811865476,0.0,0.7071067811865476,0.7071067811865476,0.0\"\r\n",
      "        Dd_over_d=\"0.0001\"\r\n",
      "        lau_path=\"Si.lau\"\r\n",
      "        mosaic=\"5./60*deg\"\r\n",
      "      >\r\n",
      "      </SingleCrystalDiffractionKernel>\r\n",
      "\r\n",
      "    \r\n",
      "  </KernelContainer>\r\n",
      "  \r\n",
      "</homogeneous_scatterer>\r\n"
     ]
    }
   ],
   "source": [
    "cat sim/sampleassembly/Si-scatterer.xml"
   ]
  },
  {
   "cell_type": "code",
   "execution_count": 35,
   "metadata": {},
   "outputs": [
    {
     "name": "stdout",
     "output_type": "stream",
     "text": [
      "Overwriting sim/sampleassembly/Si-scatterer.xml\n"
     ]
    }
   ],
   "source": [
    "%%file sim/sampleassembly/Si-scatterer.xml\n",
    "<?xml version=\"1.0\"?>\n",
    "\n",
    "<!DOCTYPE scatterer>\n",
    "\n",
    "<!-- weights: absorption, scattering, transmission -->\n",
    "<homogeneous_scatterer \n",
    "  mcweights=\"0, 1, 0.1\"\n",
    "  max_multiplescattering_loops=\"3\"\n",
    "  packing_factor=\"1.0\"\n",
    "  >\n",
    "  \n",
    "  <KernelContainer average=\"no\">\n",
    "\n",
    "    <Phonon_IncoherentElastic_Kernel dw_core='0.*angstrom**2'>\n",
    "    </Phonon_IncoherentElastic_Kernel>\n",
    "    \n",
    "    <SingleCrystalDiffractionKernel\n",
    "        weight=\"1.\"        \n",
    "        orientation=\"-0.0,0.0,1.0000000000000002,0.7071067811865476,-0.7071067811865476,0.0,0.7071067811865476,0.7071067811865476,0.0\"\n",
    "        Dd_over_d=\"0.0001\"\n",
    "        lau-path=\"Si.lau\"\n",
    "        mosaic=\"5./60*deg\"\n",
    "    >\n",
    "    </SingleCrystalDiffractionKernel>\n",
    "    \n",
    "  </KernelContainer>\n",
    "  \n",
    "</homogeneous_scatterer>"
   ]
  },
  {
   "cell_type": "markdown",
   "metadata": {},
   "source": [
    "# Beam sim"
   ]
  },
  {
   "cell_type": "code",
   "execution_count": 36,
   "metadata": {},
   "outputs": [
    {
     "name": "stdout",
     "output_type": "stream",
     "text": [
      "/home/97n/simulations/ARCS/Si/singlextal-diffraction-2/sim/beam\n"
     ]
    }
   ],
   "source": [
    "cd {workdir}/sim/beam"
   ]
  },
  {
   "cell_type": "code",
   "execution_count": 37,
   "metadata": {},
   "outputs": [],
   "source": [
    "!rm -rf *"
   ]
  },
  {
   "cell_type": "code",
   "execution_count": 38,
   "metadata": {},
   "outputs": [
    {
     "name": "stdout",
     "output_type": "stream",
     "text": [
      "Writing run-beam.sh\n"
     ]
    }
   ],
   "source": [
    "%%file run-beam.sh\n",
    "#!/usr/bin/env bash\n",
    "#\n",
    "mcvine instruments arcs beam --keep-in-cache --use-cache \\\n",
    "    --ncount=1e9 --nodes=40 --E=100."
   ]
  },
  {
   "cell_type": "code",
   "execution_count": 39,
   "metadata": {},
   "outputs": [],
   "source": [
    "!chmod +x run-beam.sh"
   ]
  },
  {
   "cell_type": "markdown",
   "metadata": {},
   "source": [
    "5min"
   ]
  },
  {
   "cell_type": "code",
   "execution_count": 40,
   "metadata": {},
   "outputs": [
    {
     "name": "stdout",
     "output_type": "stream",
     "text": [
      "CPU times: user 0 ns, sys: 7.31 ms, total: 7.31 ms\n",
      "Wall time: 340 ms\n"
     ]
    }
   ],
   "source": [
    "%%time\n",
    "! ./run-beam.sh >log.run 2>&1"
   ]
  },
  {
   "cell_type": "markdown",
   "metadata": {},
   "source": [
    "## Check"
   ]
  },
  {
   "cell_type": "code",
   "execution_count": 41,
   "metadata": {},
   "outputs": [
    {
     "name": "stdout",
     "output_type": "stream",
     "text": [
      "ienergy.h5  ix_divy.h5  iy_divy.h5            neutrons\r\n",
      "itof.h5     ix_y.h5     mon1-itof-focused.h5  props.json\r\n",
      "ix_divx.h5  iy_divx.h5  mon2-itof-focused.h5  \u001b[0m\u001b[01;34mrank0-step0\u001b[0m/\r\n"
     ]
    }
   ],
   "source": [
    "ls out"
   ]
  },
  {
   "cell_type": "code",
   "execution_count": 45,
   "metadata": {},
   "outputs": [
    {
     "data": {
      "application/javascript": [
       "/* Put everything inside the global mpl namespace */\n",
       "window.mpl = {};\n",
       "\n",
       "\n",
       "mpl.get_websocket_type = function() {\n",
       "    if (typeof(WebSocket) !== 'undefined') {\n",
       "        return WebSocket;\n",
       "    } else if (typeof(MozWebSocket) !== 'undefined') {\n",
       "        return MozWebSocket;\n",
       "    } else {\n",
       "        alert('Your browser does not have WebSocket support. ' +\n",
       "              'Please try Chrome, Safari or Firefox ≥ 6. ' +\n",
       "              'Firefox 4 and 5 are also supported but you ' +\n",
       "              'have to enable WebSockets in about:config.');\n",
       "    };\n",
       "}\n",
       "\n",
       "mpl.figure = function(figure_id, websocket, ondownload, parent_element) {\n",
       "    this.id = figure_id;\n",
       "\n",
       "    this.ws = websocket;\n",
       "\n",
       "    this.supports_binary = (this.ws.binaryType != undefined);\n",
       "\n",
       "    if (!this.supports_binary) {\n",
       "        var warnings = document.getElementById(\"mpl-warnings\");\n",
       "        if (warnings) {\n",
       "            warnings.style.display = 'block';\n",
       "            warnings.textContent = (\n",
       "                \"This browser does not support binary websocket messages. \" +\n",
       "                    \"Performance may be slow.\");\n",
       "        }\n",
       "    }\n",
       "\n",
       "    this.imageObj = new Image();\n",
       "\n",
       "    this.context = undefined;\n",
       "    this.message = undefined;\n",
       "    this.canvas = undefined;\n",
       "    this.rubberband_canvas = undefined;\n",
       "    this.rubberband_context = undefined;\n",
       "    this.format_dropdown = undefined;\n",
       "\n",
       "    this.image_mode = 'full';\n",
       "\n",
       "    this.root = $('<div/>');\n",
       "    this._root_extra_style(this.root)\n",
       "    this.root.attr('style', 'display: inline-block');\n",
       "\n",
       "    $(parent_element).append(this.root);\n",
       "\n",
       "    this._init_header(this);\n",
       "    this._init_canvas(this);\n",
       "    this._init_toolbar(this);\n",
       "\n",
       "    var fig = this;\n",
       "\n",
       "    this.waiting = false;\n",
       "\n",
       "    this.ws.onopen =  function () {\n",
       "            fig.send_message(\"supports_binary\", {value: fig.supports_binary});\n",
       "            fig.send_message(\"send_image_mode\", {});\n",
       "            if (mpl.ratio != 1) {\n",
       "                fig.send_message(\"set_dpi_ratio\", {'dpi_ratio': mpl.ratio});\n",
       "            }\n",
       "            fig.send_message(\"refresh\", {});\n",
       "        }\n",
       "\n",
       "    this.imageObj.onload = function() {\n",
       "            if (fig.image_mode == 'full') {\n",
       "                // Full images could contain transparency (where diff images\n",
       "                // almost always do), so we need to clear the canvas so that\n",
       "                // there is no ghosting.\n",
       "                fig.context.clearRect(0, 0, fig.canvas.width, fig.canvas.height);\n",
       "            }\n",
       "            fig.context.drawImage(fig.imageObj, 0, 0);\n",
       "        };\n",
       "\n",
       "    this.imageObj.onunload = function() {\n",
       "        fig.ws.close();\n",
       "    }\n",
       "\n",
       "    this.ws.onmessage = this._make_on_message_function(this);\n",
       "\n",
       "    this.ondownload = ondownload;\n",
       "}\n",
       "\n",
       "mpl.figure.prototype._init_header = function() {\n",
       "    var titlebar = $(\n",
       "        '<div class=\"ui-dialog-titlebar ui-widget-header ui-corner-all ' +\n",
       "        'ui-helper-clearfix\"/>');\n",
       "    var titletext = $(\n",
       "        '<div class=\"ui-dialog-title\" style=\"width: 100%; ' +\n",
       "        'text-align: center; padding: 3px;\"/>');\n",
       "    titlebar.append(titletext)\n",
       "    this.root.append(titlebar);\n",
       "    this.header = titletext[0];\n",
       "}\n",
       "\n",
       "\n",
       "\n",
       "mpl.figure.prototype._canvas_extra_style = function(canvas_div) {\n",
       "\n",
       "}\n",
       "\n",
       "\n",
       "mpl.figure.prototype._root_extra_style = function(canvas_div) {\n",
       "\n",
       "}\n",
       "\n",
       "mpl.figure.prototype._init_canvas = function() {\n",
       "    var fig = this;\n",
       "\n",
       "    var canvas_div = $('<div/>');\n",
       "\n",
       "    canvas_div.attr('style', 'position: relative; clear: both; outline: 0');\n",
       "\n",
       "    function canvas_keyboard_event(event) {\n",
       "        return fig.key_event(event, event['data']);\n",
       "    }\n",
       "\n",
       "    canvas_div.keydown('key_press', canvas_keyboard_event);\n",
       "    canvas_div.keyup('key_release', canvas_keyboard_event);\n",
       "    this.canvas_div = canvas_div\n",
       "    this._canvas_extra_style(canvas_div)\n",
       "    this.root.append(canvas_div);\n",
       "\n",
       "    var canvas = $('<canvas/>');\n",
       "    canvas.addClass('mpl-canvas');\n",
       "    canvas.attr('style', \"left: 0; top: 0; z-index: 0; outline: 0\")\n",
       "\n",
       "    this.canvas = canvas[0];\n",
       "    this.context = canvas[0].getContext(\"2d\");\n",
       "\n",
       "    var backingStore = this.context.backingStorePixelRatio ||\n",
       "\tthis.context.webkitBackingStorePixelRatio ||\n",
       "\tthis.context.mozBackingStorePixelRatio ||\n",
       "\tthis.context.msBackingStorePixelRatio ||\n",
       "\tthis.context.oBackingStorePixelRatio ||\n",
       "\tthis.context.backingStorePixelRatio || 1;\n",
       "\n",
       "    mpl.ratio = (window.devicePixelRatio || 1) / backingStore;\n",
       "\n",
       "    var rubberband = $('<canvas/>');\n",
       "    rubberband.attr('style', \"position: absolute; left: 0; top: 0; z-index: 1;\")\n",
       "\n",
       "    var pass_mouse_events = true;\n",
       "\n",
       "    canvas_div.resizable({\n",
       "        start: function(event, ui) {\n",
       "            pass_mouse_events = false;\n",
       "        },\n",
       "        resize: function(event, ui) {\n",
       "            fig.request_resize(ui.size.width, ui.size.height);\n",
       "        },\n",
       "        stop: function(event, ui) {\n",
       "            pass_mouse_events = true;\n",
       "            fig.request_resize(ui.size.width, ui.size.height);\n",
       "        },\n",
       "    });\n",
       "\n",
       "    function mouse_event_fn(event) {\n",
       "        if (pass_mouse_events)\n",
       "            return fig.mouse_event(event, event['data']);\n",
       "    }\n",
       "\n",
       "    rubberband.mousedown('button_press', mouse_event_fn);\n",
       "    rubberband.mouseup('button_release', mouse_event_fn);\n",
       "    // Throttle sequential mouse events to 1 every 20ms.\n",
       "    rubberband.mousemove('motion_notify', mouse_event_fn);\n",
       "\n",
       "    rubberband.mouseenter('figure_enter', mouse_event_fn);\n",
       "    rubberband.mouseleave('figure_leave', mouse_event_fn);\n",
       "\n",
       "    canvas_div.on(\"wheel\", function (event) {\n",
       "        event = event.originalEvent;\n",
       "        event['data'] = 'scroll'\n",
       "        if (event.deltaY < 0) {\n",
       "            event.step = 1;\n",
       "        } else {\n",
       "            event.step = -1;\n",
       "        }\n",
       "        mouse_event_fn(event);\n",
       "    });\n",
       "\n",
       "    canvas_div.append(canvas);\n",
       "    canvas_div.append(rubberband);\n",
       "\n",
       "    this.rubberband = rubberband;\n",
       "    this.rubberband_canvas = rubberband[0];\n",
       "    this.rubberband_context = rubberband[0].getContext(\"2d\");\n",
       "    this.rubberband_context.strokeStyle = \"#000000\";\n",
       "\n",
       "    this._resize_canvas = function(width, height) {\n",
       "        // Keep the size of the canvas, canvas container, and rubber band\n",
       "        // canvas in synch.\n",
       "        canvas_div.css('width', width)\n",
       "        canvas_div.css('height', height)\n",
       "\n",
       "        canvas.attr('width', width * mpl.ratio);\n",
       "        canvas.attr('height', height * mpl.ratio);\n",
       "        canvas.attr('style', 'width: ' + width + 'px; height: ' + height + 'px;');\n",
       "\n",
       "        rubberband.attr('width', width);\n",
       "        rubberband.attr('height', height);\n",
       "    }\n",
       "\n",
       "    // Set the figure to an initial 600x600px, this will subsequently be updated\n",
       "    // upon first draw.\n",
       "    this._resize_canvas(600, 600);\n",
       "\n",
       "    // Disable right mouse context menu.\n",
       "    $(this.rubberband_canvas).bind(\"contextmenu\",function(e){\n",
       "        return false;\n",
       "    });\n",
       "\n",
       "    function set_focus () {\n",
       "        canvas.focus();\n",
       "        canvas_div.focus();\n",
       "    }\n",
       "\n",
       "    window.setTimeout(set_focus, 100);\n",
       "}\n",
       "\n",
       "mpl.figure.prototype._init_toolbar = function() {\n",
       "    var fig = this;\n",
       "\n",
       "    var nav_element = $('<div/>');\n",
       "    nav_element.attr('style', 'width: 100%');\n",
       "    this.root.append(nav_element);\n",
       "\n",
       "    // Define a callback function for later on.\n",
       "    function toolbar_event(event) {\n",
       "        return fig.toolbar_button_onclick(event['data']);\n",
       "    }\n",
       "    function toolbar_mouse_event(event) {\n",
       "        return fig.toolbar_button_onmouseover(event['data']);\n",
       "    }\n",
       "\n",
       "    for(var toolbar_ind in mpl.toolbar_items) {\n",
       "        var name = mpl.toolbar_items[toolbar_ind][0];\n",
       "        var tooltip = mpl.toolbar_items[toolbar_ind][1];\n",
       "        var image = mpl.toolbar_items[toolbar_ind][2];\n",
       "        var method_name = mpl.toolbar_items[toolbar_ind][3];\n",
       "\n",
       "        if (!name) {\n",
       "            // put a spacer in here.\n",
       "            continue;\n",
       "        }\n",
       "        var button = $('<button/>');\n",
       "        button.addClass('ui-button ui-widget ui-state-default ui-corner-all ' +\n",
       "                        'ui-button-icon-only');\n",
       "        button.attr('role', 'button');\n",
       "        button.attr('aria-disabled', 'false');\n",
       "        button.click(method_name, toolbar_event);\n",
       "        button.mouseover(tooltip, toolbar_mouse_event);\n",
       "\n",
       "        var icon_img = $('<span/>');\n",
       "        icon_img.addClass('ui-button-icon-primary ui-icon');\n",
       "        icon_img.addClass(image);\n",
       "        icon_img.addClass('ui-corner-all');\n",
       "\n",
       "        var tooltip_span = $('<span/>');\n",
       "        tooltip_span.addClass('ui-button-text');\n",
       "        tooltip_span.html(tooltip);\n",
       "\n",
       "        button.append(icon_img);\n",
       "        button.append(tooltip_span);\n",
       "\n",
       "        nav_element.append(button);\n",
       "    }\n",
       "\n",
       "    var fmt_picker_span = $('<span/>');\n",
       "\n",
       "    var fmt_picker = $('<select/>');\n",
       "    fmt_picker.addClass('mpl-toolbar-option ui-widget ui-widget-content');\n",
       "    fmt_picker_span.append(fmt_picker);\n",
       "    nav_element.append(fmt_picker_span);\n",
       "    this.format_dropdown = fmt_picker[0];\n",
       "\n",
       "    for (var ind in mpl.extensions) {\n",
       "        var fmt = mpl.extensions[ind];\n",
       "        var option = $(\n",
       "            '<option/>', {selected: fmt === mpl.default_extension}).html(fmt);\n",
       "        fmt_picker.append(option);\n",
       "    }\n",
       "\n",
       "    // Add hover states to the ui-buttons\n",
       "    $( \".ui-button\" ).hover(\n",
       "        function() { $(this).addClass(\"ui-state-hover\");},\n",
       "        function() { $(this).removeClass(\"ui-state-hover\");}\n",
       "    );\n",
       "\n",
       "    var status_bar = $('<span class=\"mpl-message\"/>');\n",
       "    nav_element.append(status_bar);\n",
       "    this.message = status_bar[0];\n",
       "}\n",
       "\n",
       "mpl.figure.prototype.request_resize = function(x_pixels, y_pixels) {\n",
       "    // Request matplotlib to resize the figure. Matplotlib will then trigger a resize in the client,\n",
       "    // which will in turn request a refresh of the image.\n",
       "    this.send_message('resize', {'width': x_pixels, 'height': y_pixels});\n",
       "}\n",
       "\n",
       "mpl.figure.prototype.send_message = function(type, properties) {\n",
       "    properties['type'] = type;\n",
       "    properties['figure_id'] = this.id;\n",
       "    this.ws.send(JSON.stringify(properties));\n",
       "}\n",
       "\n",
       "mpl.figure.prototype.send_draw_message = function() {\n",
       "    if (!this.waiting) {\n",
       "        this.waiting = true;\n",
       "        this.ws.send(JSON.stringify({type: \"draw\", figure_id: this.id}));\n",
       "    }\n",
       "}\n",
       "\n",
       "\n",
       "mpl.figure.prototype.handle_save = function(fig, msg) {\n",
       "    var format_dropdown = fig.format_dropdown;\n",
       "    var format = format_dropdown.options[format_dropdown.selectedIndex].value;\n",
       "    fig.ondownload(fig, format);\n",
       "}\n",
       "\n",
       "\n",
       "mpl.figure.prototype.handle_resize = function(fig, msg) {\n",
       "    var size = msg['size'];\n",
       "    if (size[0] != fig.canvas.width || size[1] != fig.canvas.height) {\n",
       "        fig._resize_canvas(size[0], size[1]);\n",
       "        fig.send_message(\"refresh\", {});\n",
       "    };\n",
       "}\n",
       "\n",
       "mpl.figure.prototype.handle_rubberband = function(fig, msg) {\n",
       "    var x0 = msg['x0'] / mpl.ratio;\n",
       "    var y0 = (fig.canvas.height - msg['y0']) / mpl.ratio;\n",
       "    var x1 = msg['x1'] / mpl.ratio;\n",
       "    var y1 = (fig.canvas.height - msg['y1']) / mpl.ratio;\n",
       "    x0 = Math.floor(x0) + 0.5;\n",
       "    y0 = Math.floor(y0) + 0.5;\n",
       "    x1 = Math.floor(x1) + 0.5;\n",
       "    y1 = Math.floor(y1) + 0.5;\n",
       "    var min_x = Math.min(x0, x1);\n",
       "    var min_y = Math.min(y0, y1);\n",
       "    var width = Math.abs(x1 - x0);\n",
       "    var height = Math.abs(y1 - y0);\n",
       "\n",
       "    fig.rubberband_context.clearRect(\n",
       "        0, 0, fig.canvas.width / mpl.ratio, fig.canvas.height / mpl.ratio);\n",
       "\n",
       "    fig.rubberband_context.strokeRect(min_x, min_y, width, height);\n",
       "}\n",
       "\n",
       "mpl.figure.prototype.handle_figure_label = function(fig, msg) {\n",
       "    // Updates the figure title.\n",
       "    fig.header.textContent = msg['label'];\n",
       "}\n",
       "\n",
       "mpl.figure.prototype.handle_cursor = function(fig, msg) {\n",
       "    var cursor = msg['cursor'];\n",
       "    switch(cursor)\n",
       "    {\n",
       "    case 0:\n",
       "        cursor = 'pointer';\n",
       "        break;\n",
       "    case 1:\n",
       "        cursor = 'default';\n",
       "        break;\n",
       "    case 2:\n",
       "        cursor = 'crosshair';\n",
       "        break;\n",
       "    case 3:\n",
       "        cursor = 'move';\n",
       "        break;\n",
       "    }\n",
       "    fig.rubberband_canvas.style.cursor = cursor;\n",
       "}\n",
       "\n",
       "mpl.figure.prototype.handle_message = function(fig, msg) {\n",
       "    fig.message.textContent = msg['message'];\n",
       "}\n",
       "\n",
       "mpl.figure.prototype.handle_draw = function(fig, msg) {\n",
       "    // Request the server to send over a new figure.\n",
       "    fig.send_draw_message();\n",
       "}\n",
       "\n",
       "mpl.figure.prototype.handle_image_mode = function(fig, msg) {\n",
       "    fig.image_mode = msg['mode'];\n",
       "}\n",
       "\n",
       "mpl.figure.prototype.updated_canvas_event = function() {\n",
       "    // Called whenever the canvas gets updated.\n",
       "    this.send_message(\"ack\", {});\n",
       "}\n",
       "\n",
       "// A function to construct a web socket function for onmessage handling.\n",
       "// Called in the figure constructor.\n",
       "mpl.figure.prototype._make_on_message_function = function(fig) {\n",
       "    return function socket_on_message(evt) {\n",
       "        if (evt.data instanceof Blob) {\n",
       "            /* FIXME: We get \"Resource interpreted as Image but\n",
       "             * transferred with MIME type text/plain:\" errors on\n",
       "             * Chrome.  But how to set the MIME type?  It doesn't seem\n",
       "             * to be part of the websocket stream */\n",
       "            evt.data.type = \"image/png\";\n",
       "\n",
       "            /* Free the memory for the previous frames */\n",
       "            if (fig.imageObj.src) {\n",
       "                (window.URL || window.webkitURL).revokeObjectURL(\n",
       "                    fig.imageObj.src);\n",
       "            }\n",
       "\n",
       "            fig.imageObj.src = (window.URL || window.webkitURL).createObjectURL(\n",
       "                evt.data);\n",
       "            fig.updated_canvas_event();\n",
       "            fig.waiting = false;\n",
       "            return;\n",
       "        }\n",
       "        else if (typeof evt.data === 'string' && evt.data.slice(0, 21) == \"data:image/png;base64\") {\n",
       "            fig.imageObj.src = evt.data;\n",
       "            fig.updated_canvas_event();\n",
       "            fig.waiting = false;\n",
       "            return;\n",
       "        }\n",
       "\n",
       "        var msg = JSON.parse(evt.data);\n",
       "        var msg_type = msg['type'];\n",
       "\n",
       "        // Call the  \"handle_{type}\" callback, which takes\n",
       "        // the figure and JSON message as its only arguments.\n",
       "        try {\n",
       "            var callback = fig[\"handle_\" + msg_type];\n",
       "        } catch (e) {\n",
       "            console.log(\"No handler for the '\" + msg_type + \"' message type: \", msg);\n",
       "            return;\n",
       "        }\n",
       "\n",
       "        if (callback) {\n",
       "            try {\n",
       "                // console.log(\"Handling '\" + msg_type + \"' message: \", msg);\n",
       "                callback(fig, msg);\n",
       "            } catch (e) {\n",
       "                console.log(\"Exception inside the 'handler_\" + msg_type + \"' callback:\", e, e.stack, msg);\n",
       "            }\n",
       "        }\n",
       "    };\n",
       "}\n",
       "\n",
       "// from http://stackoverflow.com/questions/1114465/getting-mouse-location-in-canvas\n",
       "mpl.findpos = function(e) {\n",
       "    //this section is from http://www.quirksmode.org/js/events_properties.html\n",
       "    var targ;\n",
       "    if (!e)\n",
       "        e = window.event;\n",
       "    if (e.target)\n",
       "        targ = e.target;\n",
       "    else if (e.srcElement)\n",
       "        targ = e.srcElement;\n",
       "    if (targ.nodeType == 3) // defeat Safari bug\n",
       "        targ = targ.parentNode;\n",
       "\n",
       "    // jQuery normalizes the pageX and pageY\n",
       "    // pageX,Y are the mouse positions relative to the document\n",
       "    // offset() returns the position of the element relative to the document\n",
       "    var x = e.pageX - $(targ).offset().left;\n",
       "    var y = e.pageY - $(targ).offset().top;\n",
       "\n",
       "    return {\"x\": x, \"y\": y};\n",
       "};\n",
       "\n",
       "/*\n",
       " * return a copy of an object with only non-object keys\n",
       " * we need this to avoid circular references\n",
       " * http://stackoverflow.com/a/24161582/3208463\n",
       " */\n",
       "function simpleKeys (original) {\n",
       "  return Object.keys(original).reduce(function (obj, key) {\n",
       "    if (typeof original[key] !== 'object')\n",
       "        obj[key] = original[key]\n",
       "    return obj;\n",
       "  }, {});\n",
       "}\n",
       "\n",
       "mpl.figure.prototype.mouse_event = function(event, name) {\n",
       "    var canvas_pos = mpl.findpos(event)\n",
       "\n",
       "    if (name === 'button_press')\n",
       "    {\n",
       "        this.canvas.focus();\n",
       "        this.canvas_div.focus();\n",
       "    }\n",
       "\n",
       "    var x = canvas_pos.x * mpl.ratio;\n",
       "    var y = canvas_pos.y * mpl.ratio;\n",
       "\n",
       "    this.send_message(name, {x: x, y: y, button: event.button,\n",
       "                             step: event.step,\n",
       "                             guiEvent: simpleKeys(event)});\n",
       "\n",
       "    /* This prevents the web browser from automatically changing to\n",
       "     * the text insertion cursor when the button is pressed.  We want\n",
       "     * to control all of the cursor setting manually through the\n",
       "     * 'cursor' event from matplotlib */\n",
       "    event.preventDefault();\n",
       "    return false;\n",
       "}\n",
       "\n",
       "mpl.figure.prototype._key_event_extra = function(event, name) {\n",
       "    // Handle any extra behaviour associated with a key event\n",
       "}\n",
       "\n",
       "mpl.figure.prototype.key_event = function(event, name) {\n",
       "\n",
       "    // Prevent repeat events\n",
       "    if (name == 'key_press')\n",
       "    {\n",
       "        if (event.which === this._key)\n",
       "            return;\n",
       "        else\n",
       "            this._key = event.which;\n",
       "    }\n",
       "    if (name == 'key_release')\n",
       "        this._key = null;\n",
       "\n",
       "    var value = '';\n",
       "    if (event.ctrlKey && event.which != 17)\n",
       "        value += \"ctrl+\";\n",
       "    if (event.altKey && event.which != 18)\n",
       "        value += \"alt+\";\n",
       "    if (event.shiftKey && event.which != 16)\n",
       "        value += \"shift+\";\n",
       "\n",
       "    value += 'k';\n",
       "    value += event.which.toString();\n",
       "\n",
       "    this._key_event_extra(event, name);\n",
       "\n",
       "    this.send_message(name, {key: value,\n",
       "                             guiEvent: simpleKeys(event)});\n",
       "    return false;\n",
       "}\n",
       "\n",
       "mpl.figure.prototype.toolbar_button_onclick = function(name) {\n",
       "    if (name == 'download') {\n",
       "        this.handle_save(this, null);\n",
       "    } else {\n",
       "        this.send_message(\"toolbar_button\", {name: name});\n",
       "    }\n",
       "};\n",
       "\n",
       "mpl.figure.prototype.toolbar_button_onmouseover = function(tooltip) {\n",
       "    this.message.textContent = tooltip;\n",
       "};\n",
       "mpl.toolbar_items = [[\"Home\", \"Reset original view\", \"fa fa-home icon-home\", \"home\"], [\"Back\", \"Back to previous view\", \"fa fa-arrow-left icon-arrow-left\", \"back\"], [\"Forward\", \"Forward to next view\", \"fa fa-arrow-right icon-arrow-right\", \"forward\"], [\"\", \"\", \"\", \"\"], [\"Pan\", \"Pan axes with left mouse, zoom with right\", \"fa fa-arrows icon-move\", \"pan\"], [\"Zoom\", \"Zoom to rectangle\", \"fa fa-square-o icon-check-empty\", \"zoom\"], [\"\", \"\", \"\", \"\"], [\"Download\", \"Download plot\", \"fa fa-floppy-o icon-save\", \"download\"]];\n",
       "\n",
       "mpl.extensions = [\"eps\", \"jpeg\", \"pdf\", \"png\", \"ps\", \"raw\", \"svg\", \"tif\"];\n",
       "\n",
       "mpl.default_extension = \"png\";var comm_websocket_adapter = function(comm) {\n",
       "    // Create a \"websocket\"-like object which calls the given IPython comm\n",
       "    // object with the appropriate methods. Currently this is a non binary\n",
       "    // socket, so there is still some room for performance tuning.\n",
       "    var ws = {};\n",
       "\n",
       "    ws.close = function() {\n",
       "        comm.close()\n",
       "    };\n",
       "    ws.send = function(m) {\n",
       "        //console.log('sending', m);\n",
       "        comm.send(m);\n",
       "    };\n",
       "    // Register the callback with on_msg.\n",
       "    comm.on_msg(function(msg) {\n",
       "        //console.log('receiving', msg['content']['data'], msg);\n",
       "        // Pass the mpl event to the overridden (by mpl) onmessage function.\n",
       "        ws.onmessage(msg['content']['data'])\n",
       "    });\n",
       "    return ws;\n",
       "}\n",
       "\n",
       "mpl.mpl_figure_comm = function(comm, msg) {\n",
       "    // This is the function which gets called when the mpl process\n",
       "    // starts-up an IPython Comm through the \"matplotlib\" channel.\n",
       "\n",
       "    var id = msg.content.data.id;\n",
       "    // Get hold of the div created by the display call when the Comm\n",
       "    // socket was opened in Python.\n",
       "    var element = $(\"#\" + id);\n",
       "    var ws_proxy = comm_websocket_adapter(comm)\n",
       "\n",
       "    function ondownload(figure, format) {\n",
       "        window.open(figure.imageObj.src);\n",
       "    }\n",
       "\n",
       "    var fig = new mpl.figure(id, ws_proxy,\n",
       "                           ondownload,\n",
       "                           element.get(0));\n",
       "\n",
       "    // Call onopen now - mpl needs it, as it is assuming we've passed it a real\n",
       "    // web socket which is closed, not our websocket->open comm proxy.\n",
       "    ws_proxy.onopen();\n",
       "\n",
       "    fig.parent_element = element.get(0);\n",
       "    fig.cell_info = mpl.find_output_cell(\"<div id='\" + id + \"'></div>\");\n",
       "    if (!fig.cell_info) {\n",
       "        console.error(\"Failed to find cell for figure\", id, fig);\n",
       "        return;\n",
       "    }\n",
       "\n",
       "    var output_index = fig.cell_info[2]\n",
       "    var cell = fig.cell_info[0];\n",
       "\n",
       "};\n",
       "\n",
       "mpl.figure.prototype.handle_close = function(fig, msg) {\n",
       "    var width = fig.canvas.width/mpl.ratio\n",
       "    fig.root.unbind('remove')\n",
       "\n",
       "    // Update the output cell to use the data from the current canvas.\n",
       "    fig.push_to_output();\n",
       "    var dataURL = fig.canvas.toDataURL();\n",
       "    // Re-enable the keyboard manager in IPython - without this line, in FF,\n",
       "    // the notebook keyboard shortcuts fail.\n",
       "    IPython.keyboard_manager.enable()\n",
       "    $(fig.parent_element).html('<img src=\"' + dataURL + '\" width=\"' + width + '\">');\n",
       "    fig.close_ws(fig, msg);\n",
       "}\n",
       "\n",
       "mpl.figure.prototype.close_ws = function(fig, msg){\n",
       "    fig.send_message('closing', msg);\n",
       "    // fig.ws.close()\n",
       "}\n",
       "\n",
       "mpl.figure.prototype.push_to_output = function(remove_interactive) {\n",
       "    // Turn the data on the canvas into data in the output cell.\n",
       "    var width = this.canvas.width/mpl.ratio\n",
       "    var dataURL = this.canvas.toDataURL();\n",
       "    this.cell_info[1]['text/html'] = '<img src=\"' + dataURL + '\" width=\"' + width + '\">';\n",
       "}\n",
       "\n",
       "mpl.figure.prototype.updated_canvas_event = function() {\n",
       "    // Tell IPython that the notebook contents must change.\n",
       "    IPython.notebook.set_dirty(true);\n",
       "    this.send_message(\"ack\", {});\n",
       "    var fig = this;\n",
       "    // Wait a second, then push the new image to the DOM so\n",
       "    // that it is saved nicely (might be nice to debounce this).\n",
       "    setTimeout(function () { fig.push_to_output() }, 1000);\n",
       "}\n",
       "\n",
       "mpl.figure.prototype._init_toolbar = function() {\n",
       "    var fig = this;\n",
       "\n",
       "    var nav_element = $('<div/>');\n",
       "    nav_element.attr('style', 'width: 100%');\n",
       "    this.root.append(nav_element);\n",
       "\n",
       "    // Define a callback function for later on.\n",
       "    function toolbar_event(event) {\n",
       "        return fig.toolbar_button_onclick(event['data']);\n",
       "    }\n",
       "    function toolbar_mouse_event(event) {\n",
       "        return fig.toolbar_button_onmouseover(event['data']);\n",
       "    }\n",
       "\n",
       "    for(var toolbar_ind in mpl.toolbar_items){\n",
       "        var name = mpl.toolbar_items[toolbar_ind][0];\n",
       "        var tooltip = mpl.toolbar_items[toolbar_ind][1];\n",
       "        var image = mpl.toolbar_items[toolbar_ind][2];\n",
       "        var method_name = mpl.toolbar_items[toolbar_ind][3];\n",
       "\n",
       "        if (!name) { continue; };\n",
       "\n",
       "        var button = $('<button class=\"btn btn-default\" href=\"#\" title=\"' + name + '\"><i class=\"fa ' + image + ' fa-lg\"></i></button>');\n",
       "        button.click(method_name, toolbar_event);\n",
       "        button.mouseover(tooltip, toolbar_mouse_event);\n",
       "        nav_element.append(button);\n",
       "    }\n",
       "\n",
       "    // Add the status bar.\n",
       "    var status_bar = $('<span class=\"mpl-message\" style=\"text-align:right; float: right;\"/>');\n",
       "    nav_element.append(status_bar);\n",
       "    this.message = status_bar[0];\n",
       "\n",
       "    // Add the close button to the window.\n",
       "    var buttongrp = $('<div class=\"btn-group inline pull-right\"></div>');\n",
       "    var button = $('<button class=\"btn btn-mini btn-primary\" href=\"#\" title=\"Stop Interaction\"><i class=\"fa fa-power-off icon-remove icon-large\"></i></button>');\n",
       "    button.click(function (evt) { fig.handle_close(fig, {}); } );\n",
       "    button.mouseover('Stop Interaction', toolbar_mouse_event);\n",
       "    buttongrp.append(button);\n",
       "    var titlebar = this.root.find($('.ui-dialog-titlebar'));\n",
       "    titlebar.prepend(buttongrp);\n",
       "}\n",
       "\n",
       "mpl.figure.prototype._root_extra_style = function(el){\n",
       "    var fig = this\n",
       "    el.on(\"remove\", function(){\n",
       "\tfig.close_ws(fig, {});\n",
       "    });\n",
       "}\n",
       "\n",
       "mpl.figure.prototype._canvas_extra_style = function(el){\n",
       "    // this is important to make the div 'focusable\n",
       "    el.attr('tabindex', 0)\n",
       "    // reach out to IPython and tell the keyboard manager to turn it's self\n",
       "    // off when our div gets focus\n",
       "\n",
       "    // location in version 3\n",
       "    if (IPython.notebook.keyboard_manager) {\n",
       "        IPython.notebook.keyboard_manager.register_events(el);\n",
       "    }\n",
       "    else {\n",
       "        // location in version 2\n",
       "        IPython.keyboard_manager.register_events(el);\n",
       "    }\n",
       "\n",
       "}\n",
       "\n",
       "mpl.figure.prototype._key_event_extra = function(event, name) {\n",
       "    var manager = IPython.notebook.keyboard_manager;\n",
       "    if (!manager)\n",
       "        manager = IPython.keyboard_manager;\n",
       "\n",
       "    // Check for shift+enter\n",
       "    if (event.shiftKey && event.which == 13) {\n",
       "        this.canvas_div.blur();\n",
       "        // select the cell after this one\n",
       "        var index = IPython.notebook.find_cell_index(this.cell_info[0]);\n",
       "        IPython.notebook.select(index + 1);\n",
       "    }\n",
       "}\n",
       "\n",
       "mpl.figure.prototype.handle_save = function(fig, msg) {\n",
       "    fig.ondownload(fig, null);\n",
       "}\n",
       "\n",
       "\n",
       "mpl.find_output_cell = function(html_output) {\n",
       "    // Return the cell and output element which can be found *uniquely* in the notebook.\n",
       "    // Note - this is a bit hacky, but it is done because the \"notebook_saving.Notebook\"\n",
       "    // IPython event is triggered only after the cells have been serialised, which for\n",
       "    // our purposes (turning an active figure into a static one), is too late.\n",
       "    var cells = IPython.notebook.get_cells();\n",
       "    var ncells = cells.length;\n",
       "    for (var i=0; i<ncells; i++) {\n",
       "        var cell = cells[i];\n",
       "        if (cell.cell_type === 'code'){\n",
       "            for (var j=0; j<cell.output_area.outputs.length; j++) {\n",
       "                var data = cell.output_area.outputs[j];\n",
       "                if (data.data) {\n",
       "                    // IPython >= 3 moved mimebundle to data attribute of output\n",
       "                    data = data.data;\n",
       "                }\n",
       "                if (data['text/html'] == html_output) {\n",
       "                    return [cell, data, j];\n",
       "                }\n",
       "            }\n",
       "        }\n",
       "    }\n",
       "}\n",
       "\n",
       "// Register the function which deals with the matplotlib target/channel.\n",
       "// The kernel may be null if the page has been refreshed.\n",
       "if (IPython.notebook.kernel != null) {\n",
       "    IPython.notebook.kernel.comm_manager.register_target('matplotlib', mpl.mpl_figure_comm);\n",
       "}\n"
      ],
      "text/plain": [
       "<IPython.core.display.Javascript object>"
      ]
     },
     "metadata": {},
     "output_type": "display_data"
    },
    {
     "data": {
      "text/html": [
       "<img src=\"data:image/png;base64,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\" width=\"640\">"
      ],
      "text/plain": [
       "<IPython.core.display.HTML object>"
      ]
     },
     "metadata": {},
     "output_type": "display_data"
    }
   ],
   "source": [
    "H.plot(hh.load('out/ienergy.h5'))"
   ]
  },
  {
   "cell_type": "markdown",
   "metadata": {},
   "source": [
    "# Scattering"
   ]
  },
  {
   "cell_type": "code",
   "execution_count": 53,
   "metadata": {},
   "outputs": [
    {
     "name": "stdout",
     "output_type": "stream",
     "text": [
      "/home/97n/simulations/ARCS/Si/singlextal-diffraction-2/sim/scattering\n"
     ]
    }
   ],
   "source": [
    "cd {workdir}/sim/scattering"
   ]
  },
  {
   "cell_type": "code",
   "execution_count": 23,
   "metadata": {},
   "outputs": [
    {
     "name": "stdout",
     "output_type": "stream",
     "text": [
      "\u001b[0m\u001b[01;34mscripts\u001b[0m/  sim.yml  \u001b[01;34mtemplate\u001b[0m/\r\n"
     ]
    }
   ],
   "source": [
    "ls"
   ]
  },
  {
   "cell_type": "markdown",
   "metadata": {},
   "source": [
    "## Customize sim"
   ]
  },
  {
   "cell_type": "code",
   "execution_count": 47,
   "metadata": {},
   "outputs": [
    {
     "name": "stdout",
     "output_type": "stream",
     "text": [
      "Overwriting sim.yml\n"
     ]
    }
   ],
   "source": [
    "%%file sim.yml\n",
    "cluster:\n",
    "  nodes: 40\n",
    "instrument:\n",
    "  name: arcs\n",
    "scatter:\n",
    "  ncount: 1e7\n",
    "  buffer_size: 0\n",
    "  multiple_scattering: off\n",
    "  template: ./template"
   ]
  },
  {
   "cell_type": "markdown",
   "metadata": {},
   "source": [
    "## Try one angle"
   ]
  },
  {
   "cell_type": "code",
   "execution_count": 54,
   "metadata": {},
   "outputs": [],
   "source": [
    "rm -rf work_-160.55/"
   ]
  },
  {
   "cell_type": "code",
   "execution_count": 69,
   "metadata": {},
   "outputs": [
    {
     "name": "stdout",
     "output_type": "stream",
     "text": [
      "ln -s ../../beam\n",
      "ln -s ../../sampleassembly\n",
      "NCOUNT=1e7 BUFFER_SIZE=0 NODES=40 SAMPLE_ANGLE=-160.55 ./scatter </dev/null >log.scatter 2>&1\n",
      "INSTRUMENT=arcs NODES=40 SAMPLE_ANGLE=-160.55 time ./create-nxs >log.create-nxs 2>&1\n",
      "CPU times: user 549 ms, sys: 89.4 ms, total: 639 ms\n",
      "Wall time: 1min 25s\n"
     ]
    }
   ],
   "source": [
    "%%time\n",
    "! ./scripts/sim.py --angle=-160.55"
   ]
  },
  {
   "cell_type": "code",
   "execution_count": 70,
   "metadata": {},
   "outputs": [
    {
     "name": "stdout",
     "output_type": "stream",
     "text": [
      "work_-160.55/sim_-160.55_no_metadata.nxs\r\n",
      "work_-160.55/sim_-160.55.nxs\r\n",
      "work_-160.55/sim_-160.55-with-monitors.nxs\r\n"
     ]
    }
   ],
   "source": [
    "ls work_-160.55/*.nxs"
   ]
  },
  {
   "cell_type": "markdown",
   "metadata": {},
   "source": [
    "## Run all angles"
   ]
  },
  {
   "cell_type": "code",
   "execution_count": 72,
   "metadata": {},
   "outputs": [],
   "source": [
    "psi_angles = [-160.55, -116.97, -83.24, -175.22, 152.54]"
   ]
  },
  {
   "cell_type": "code",
   "execution_count": 58,
   "metadata": {},
   "outputs": [
    {
     "name": "stdout",
     "output_type": "stream",
     "text": [
      "Writing create-run.py\n"
     ]
    }
   ],
   "source": [
    "%%file create-run.py\n",
    "import numpy as np\n",
    "ostream = open('run.sh', 'wt')\n",
    "for a in [-83.24, -175.22, 152.54]:\n",
    "    ostream.write('./scripts/sim.py --angle=%s \\n' % a)\n",
    "    continue\n",
    "ostream.close()"
   ]
  },
  {
   "cell_type": "code",
   "execution_count": 60,
   "metadata": {},
   "outputs": [],
   "source": [
    "!python create-run.py"
   ]
  },
  {
   "cell_type": "code",
   "execution_count": 61,
   "metadata": {},
   "outputs": [],
   "source": [
    "!chmod +x run.sh"
   ]
  },
  {
   "cell_type": "code",
   "execution_count": 62,
   "metadata": {},
   "outputs": [
    {
     "name": "stdout",
     "output_type": "stream",
     "text": [
      "./scripts/sim.py --angle=-83.24 \r\n",
      "./scripts/sim.py --angle=-175.22 \r\n",
      "./scripts/sim.py --angle=152.54 \r\n"
     ]
    }
   ],
   "source": [
    "cat run.sh"
   ]
  },
  {
   "cell_type": "code",
   "execution_count": 63,
   "metadata": {},
   "outputs": [],
   "source": [
    "# rm -rf work_*"
   ]
  },
  {
   "cell_type": "code",
   "execution_count": 64,
   "metadata": {},
   "outputs": [
    {
     "name": "stdout",
     "output_type": "stream",
     "text": [
      "CPU times: user 1.54 s, sys: 190 ms, total: 1.73 s\n",
      "Wall time: 4min 10s\n"
     ]
    }
   ],
   "source": [
    "%%time\n",
    "!./run.sh >log.run"
   ]
  },
  {
   "cell_type": "markdown",
   "metadata": {},
   "source": [
    "### Add psi log"
   ]
  },
  {
   "cell_type": "code",
   "execution_count": 65,
   "metadata": {},
   "outputs": [],
   "source": [
    "from mantid import simpleapi as msa"
   ]
  },
  {
   "cell_type": "code",
   "execution_count": 73,
   "metadata": {},
   "outputs": [],
   "source": [
    "nxsfiles = ['work_{}/sim_{}.nxs'.format(a, a) for a in psi_angles]"
   ]
  },
  {
   "cell_type": "code",
   "execution_count": 74,
   "metadata": {},
   "outputs": [
    {
     "name": "stderr",
     "output_type": "stream",
     "text": [
      "5it [00:02,  1.86it/s]\n"
     ]
    }
   ],
   "source": [
    "nxsfiles_withpsi = []\n",
    "for a, f in tqdm.tqdm(zip(psi_angles, nxsfiles)):\n",
    "    ws = msa.Load(f)\n",
    "    msa.AddSampleLog(ws, LogName='omega', LogText=str(a), LogType='Number')\n",
    "    # assert('omega' in ws.getRun().keys())\n",
    "    bn, ext = os.path.splitext(f)\n",
    "    fo = os.path.abspath('sim_{}-with_psi.nxs'.format(a))\n",
    "    msa.SaveNexus(ws, FileName=fo)\n",
    "    assert os.path.exists(fo)\n",
    "    nxsfiles_withpsi.append(fo)\n",
    "    continue"
   ]
  },
  {
   "cell_type": "code",
   "execution_count": 75,
   "metadata": {},
   "outputs": [
    {
     "data": {
      "text/plain": [
       "'/home/97n/simulations/ARCS/Si/singlextal-diffraction-2/sim/scattering'"
      ]
     },
     "execution_count": 75,
     "metadata": {},
     "output_type": "execute_result"
    }
   ],
   "source": [
    "pwd"
   ]
  },
  {
   "cell_type": "code",
   "execution_count": null,
   "metadata": {},
   "outputs": [],
   "source": []
  }
 ],
 "metadata": {
  "kernelspec": {
   "display_name": "mcvine-py36",
   "language": "python",
   "name": "mcvine-py36"
  },
  "language_info": {
   "codemirror_mode": {
    "name": "ipython",
    "version": 3
   },
   "file_extension": ".py",
   "mimetype": "text/x-python",
   "name": "python",
   "nbconvert_exporter": "python",
   "pygments_lexer": "ipython3",
   "version": "3.6.7"
  },
  "toc": {
   "base_numbering": 1,
   "nav_menu": {},
   "number_sections": true,
   "sideBar": true,
   "skip_h1_title": false,
   "title_cell": "Table of Contents",
   "title_sidebar": "Contents",
   "toc_cell": false,
   "toc_position": {},
   "toc_section_display": true,
   "toc_window_display": true
  }
 },
 "nbformat": 4,
 "nbformat_minor": 4
}
