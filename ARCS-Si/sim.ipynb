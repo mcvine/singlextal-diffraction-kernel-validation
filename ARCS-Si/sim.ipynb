{
 "cells": [
  {
   "cell_type": "markdown",
   "metadata": {},
   "source": [
    "# Workdir"
   ]
  },
  {
   "cell_type": "code",
   "execution_count": 2,
   "metadata": {},
   "outputs": [],
   "source": [
    "workdir = '/home/97n/simulations/ARCS/Si/singlextal-diffraction/'"
   ]
  },
  {
   "cell_type": "code",
   "execution_count": 3,
   "metadata": {},
   "outputs": [
    {
     "name": "stdout",
     "output_type": "stream",
     "text": [
      "/home/97n/simulations/ARCS/Si/singlextal-diffraction\n"
     ]
    }
   ],
   "source": [
    "!mkdir -p {workdir}\n",
    "%cd {workdir}"
   ]
  },
  {
   "cell_type": "markdown",
   "metadata": {},
   "source": [
    "# Tools"
   ]
  },
  {
   "cell_type": "code",
   "execution_count": 4,
   "metadata": {},
   "outputs": [],
   "source": [
    "import tqdm"
   ]
  },
  {
   "cell_type": "code",
   "execution_count": 6,
   "metadata": {},
   "outputs": [
    {
     "name": "stderr",
     "output_type": "stream",
     "text": [
      "/home/97n/miniconda3/envs/mcvine-py36/lib/python3.6/site-packages/h5py/__init__.py:36: FutureWarning: Conversion of the second argument of issubdtype from `float` to `np.floating` is deprecated. In future, it will be treated as `np.float64 == np.dtype(float).type`.\n",
      "  from ._conv import register_converters as _register_converters\n"
     ]
    }
   ],
   "source": [
    "from matplotlib import pyplot as plt\n",
    "import numpy as np, os\n",
    "import histogram.hdf as hh, histogram as H"
   ]
  },
  {
   "cell_type": "code",
   "execution_count": 63,
   "metadata": {},
   "outputs": [],
   "source": [
    "%matplotlib notebook\n",
    "# %matplotlib inline"
   ]
  },
  {
   "cell_type": "markdown",
   "metadata": {},
   "source": [
    "# Sample spec"
   ]
  },
  {
   "cell_type": "code",
   "execution_count": 60,
   "metadata": {},
   "outputs": [
    {
     "name": "stdout",
     "output_type": "stream",
     "text": [
      "/home/97n/simulations/ARCS/Si/singlextal-diffraction\n"
     ]
    }
   ],
   "source": [
    "cd {workdir}"
   ]
  },
  {
   "cell_type": "code",
   "execution_count": 67,
   "metadata": {},
   "outputs": [
    {
     "name": "stdout",
     "output_type": "stream",
     "text": [
      "Overwriting Si.yml\n"
     ]
    }
   ],
   "source": [
    "%%file Si.yml\n",
    "name: Si\n",
    "chemical_formula: Si #\n",
    "lattice: \n",
    " constants: 5.431, 5.431, 5.431, 90, 90, 90\n",
    " basis_vectors:\n",
    "  - 5.431, 0, 0\n",
    "  - 0, 5.431, 0\n",
    "  - 0, 0, 5.431\n",
    "excitation:\n",
    " type: singlecrystal_diffraction\n",
    " Dd_over_d: 1.e-4\n",
    " mosaic: 5./60*deg\n",
    " lau_path: Si.lau\n",
    "orientation:\n",
    " u: -1, 1, -1\n",
    " v: 2, 1, -1\n",
    "shape: hollowCylinder in_radius=\"5./8*inch\" out_radius=\"1.*inch\" height=\"1.5*inch\"\n",
    "temperature: 300*K"
   ]
  },
  {
   "cell_type": "code",
   "execution_count": 68,
   "metadata": {},
   "outputs": [],
   "source": [
    "!cp /home/97n/dv/mcvine/mcvine/packages/mccomponents/tests/mccomponents/sample/diffraction/Si.cif .\n",
    "!cp /home/97n/dv/mcvine/mcvine/packages/mccomponents/tests/mccomponents/sample/diffraction/Si.lau ."
   ]
  },
  {
   "cell_type": "markdown",
   "metadata": {},
   "source": [
    "# Workflow"
   ]
  },
  {
   "cell_type": "code",
   "execution_count": 18,
   "metadata": {},
   "outputs": [
    {
     "name": "stdout",
     "output_type": "stream",
     "text": [
      "/home/97n/simulations/ARCS/Si/singlextal-diffraction\n"
     ]
    }
   ],
   "source": [
    "cd {workdir}"
   ]
  },
  {
   "cell_type": "code",
   "execution_count": 19,
   "metadata": {},
   "outputs": [],
   "source": [
    "rm -rf sim/"
   ]
  },
  {
   "cell_type": "code",
   "execution_count": 20,
   "metadata": {},
   "outputs": [
    {
     "name": "stdout",
     "output_type": "stream",
     "text": [
      "/home/97n/miniconda3/envs/mcvine-py36/lib/python3.6/site-packages/mcvine/workflow/sampleassembly/scaffolding/sampleassembly_xml.py:22: UserWarning: assume average temperature\r\n",
      "  warnings.warn(\"assume average temperature\")\r\n"
     ]
    }
   ],
   "source": [
    "!mcvine workflow singlecrystal --instrument=arcs --sample=Si.yml --outdir=sim --type=DGS"
   ]
  },
  {
   "cell_type": "markdown",
   "metadata": {},
   "source": [
    "# Fine tune sample"
   ]
  },
  {
   "cell_type": "code",
   "execution_count": 21,
   "metadata": {},
   "outputs": [
    {
     "name": "stdout",
     "output_type": "stream",
     "text": [
      "sampleassembly.xml  Si-scatterer.xml  Si.xyz\r\n"
     ]
    }
   ],
   "source": [
    "ls sim/sampleassembly/"
   ]
  },
  {
   "cell_type": "code",
   "execution_count": 22,
   "metadata": {},
   "outputs": [],
   "source": [
    "!cp Si.cif sim/sampleassembly/\n",
    "!cp Si.lau sim/sampleassembly/"
   ]
  },
  {
   "cell_type": "code",
   "execution_count": 23,
   "metadata": {},
   "outputs": [
    {
     "name": "stdout",
     "output_type": "stream",
     "text": [
      "Overwriting sim/sampleassembly/sampleassembly.xml\n"
     ]
    }
   ],
   "source": [
    "%%file sim/sampleassembly/sampleassembly.xml\n",
    "<?xml version=\"1.0\"?>\n",
    "\n",
    "<!DOCTYPE SampleAssembly>\n",
    "\n",
    "<SampleAssembly name=\"X\"\n",
    "   max_multiplescattering_loops_among_scatterers=\"1\"\n",
    "   max_multiplescattering_loops_interactM_path1=\"4\"\n",
    "   min_neutron_probability=\".1\"\n",
    " >\n",
    "\n",
    "  <PowderSample name=\"Si\" type=\"sample\">\n",
    "    <Shape>\n",
    "      <hollowCylinder in_radius=\"5./8*inch\" out_radius=\"1.*inch\" height=\"1.5*inch\" />\n",
    "    </Shape>\n",
    "    <Phase type=\"crystal\">\n",
    "      <ChemicalFormula>Si</ChemicalFormula>\n",
    "      <ciffile>Si.cif</ciffile>\n",
    "    </Phase>\n",
    "  </PowderSample>\n",
    "\n",
    "  <LocalGeometer registry-coordinate-system=\"InstrumentScientist\">\n",
    "    <Register name=\"Si\" position=\"(0,0,0)\" orientation=\"(0, 0, 0)\"/>\n",
    "  </LocalGeometer>\n",
    "\n",
    "  <Environment temperature=\"300*K\"/>\n",
    "\n",
    "</SampleAssembly>"
   ]
  },
  {
   "cell_type": "code",
   "execution_count": 24,
   "metadata": {},
   "outputs": [
    {
     "name": "stdout",
     "output_type": "stream",
     "text": [
      "Overwriting sim/sampleassembly/Si-scatterer.xml\n"
     ]
    }
   ],
   "source": [
    "%%file sim/sampleassembly/Si-scatterer.xml\n",
    "<?xml version=\"1.0\"?>\n",
    "\n",
    "<!DOCTYPE scatterer>\n",
    "\n",
    "<!-- weights: absorption, scattering, transmission -->\n",
    "<homogeneous_scatterer \n",
    "  mcweights=\"0, 1, 0.1\"\n",
    "  max_multiplescattering_loops=\"3\"\n",
    "  packing_factor=\"1.0\"\n",
    "  >\n",
    "  \n",
    "  <KernelContainer average=\"no\">\n",
    "\n",
    "    <Phonon_IncoherentElastic_Kernel dw_core='0.*angstrom**2'>\n",
    "    </Phonon_IncoherentElastic_Kernel>\n",
    "    \n",
    "    <SingleCrystalDiffractionKernel\n",
    "        weight=\"1.\"        \n",
    "        orientation=\"0.8164965809277259,0.40824829046386296,-0.40824829046386296,0.0,-0.7071067811865475,-0.7071067811865475,-0.5773502691896257,0.5773502691896257,-0.5773502691896257\"\n",
    "        Dd_over_d=\"0.0001\"\n",
    "        lau-path=\"Si.lau\"\n",
    "        mosaic=\"5./60*deg\"\n",
    "    >\n",
    "    </SingleCrystalDiffractionKernel>\n",
    "    \n",
    "  </KernelContainer>\n",
    "  \n",
    "</homogeneous_scatterer>"
   ]
  },
  {
   "cell_type": "markdown",
   "metadata": {},
   "source": [
    "# Beam sim"
   ]
  },
  {
   "cell_type": "code",
   "execution_count": 25,
   "metadata": {},
   "outputs": [
    {
     "name": "stdout",
     "output_type": "stream",
     "text": [
      "/home/97n/simulations/ARCS/Si/singlextal-diffraction/sim/beam\n"
     ]
    }
   ],
   "source": [
    "cd {workdir}/sim/beam"
   ]
  },
  {
   "cell_type": "code",
   "execution_count": 26,
   "metadata": {},
   "outputs": [
    {
     "name": "stdout",
     "output_type": "stream",
     "text": [
      "properties of 'arcs_beam':\r\n",
      "    E=<float>: desired incident beam energy. unit: meV\r\n",
      "        default value: 70\r\n",
      "        current value: 70.0, from {{{default}}}\r\n",
      "    T0_nu=<float>: Spinning frequency of T0 chopper\r\n",
      "        default value: 60\r\n",
      "        current value: 60.0, from {{{default}}}\r\n",
      "    buffer_size=<int>: (no documentation available)\r\n",
      "        default value: 0\r\n",
      "        current value: 0, from {{{default}}}\r\n",
      "    dumpconfiguration=<bool>: If set, dump configuration to a pml file\r\n",
      "        default value: 0\r\n",
      "        current value: False, from {{{default}}}\r\n",
      "    dumpconfiguration-output=<str>: Output file path of dumped configuration file (pml)\r\n",
      "        default value: ''\r\n",
      "        current value: '', from {{{default}}}\r\n",
      "    emission_time=<float>: emission time for moderator unit (microsecond)\r\n",
      "        default value: -1\r\n",
      "        current value: -1.0, from {{{default}}}\r\n",
      "    fermi_chopper=<str>: The choice of fermi chopper\r\n",
      "        default value: '100-1.5-SMI'\r\n",
      "        current value: '100-1.5-SMI', from {{{default}}}\r\n",
      "        validator: (in ['100-1.5-SMI', '700-1.5-SMI', '700-0.5-AST'])\r\n",
      "    fermi_nu=<float>: Spinning frequency of fermi chopper\r\n",
      "        default value: 600\r\n",
      "        current value: 600.0, from {{{default}}}\r\n",
      "    help=<bool>: prints a screen that describes my traits\r\n",
      "        default value: False\r\n",
      "        current value: False, from {{{default}}}\r\n",
      "    help-components=<bool>: prints a screen that describes my subcomponents\r\n",
      "        default value: False\r\n",
      "        current value: False, from {{{default}}}\r\n",
      "    help-persistence=<bool>: prints a screen that describes my persistent store\r\n",
      "        default value: False\r\n",
      "        current value: False, from {{{default}}}\r\n",
      "    help-properties=<bool>: prints a screen that describes my properties\r\n",
      "        default value: False\r\n",
      "        current value: True, from {{{command line}}}\r\n",
      "    ncount=<float>: (no documentation available)\r\n",
      "        default value: 1000000\r\n",
      "        current value: 1000000.0, from {{{default}}}\r\n",
      "    nodes=<int>: (no documentation available)\r\n",
      "        default value: 0\r\n",
      "        current value: 0, from {{{default}}}\r\n",
      "    typos=<str>: specifies the handling of typos in the names of properties and facilities\r\n",
      "        default value: 'strict'\r\n",
      "        current value: 'strict', from {{{default}}}\r\n",
      "        validator: (in ['relaxed', 'strict', 'pedantic'])\r\n",
      "    with_moderator_angling=<bool>: turn on/of moderator angling\r\n",
      "        default value: True\r\n",
      "        current value: True, from {{{default}}}\r\n"
     ]
    }
   ],
   "source": [
    "!mcvine instruments arcs beam --help-properties"
   ]
  },
  {
   "cell_type": "code",
   "execution_count": 27,
   "metadata": {},
   "outputs": [],
   "source": [
    "!rm -rf *"
   ]
  },
  {
   "cell_type": "code",
   "execution_count": 28,
   "metadata": {},
   "outputs": [
    {
     "name": "stdout",
     "output_type": "stream",
     "text": [
      "Writing run-beam.sh\n"
     ]
    }
   ],
   "source": [
    "%%file run-beam.sh\n",
    "#!/usr/bin/env bash\n",
    "#\n",
    "mcvine instruments arcs beam --keep-in-cache --use-cache \\\n",
    "    --ncount=1e9 --nodes=40 --E=100."
   ]
  },
  {
   "cell_type": "code",
   "execution_count": 29,
   "metadata": {},
   "outputs": [],
   "source": [
    "!chmod +x run-beam.sh"
   ]
  },
  {
   "cell_type": "markdown",
   "metadata": {},
   "source": [
    "5min"
   ]
  },
  {
   "cell_type": "code",
   "execution_count": 30,
   "metadata": {},
   "outputs": [
    {
     "name": "stdout",
     "output_type": "stream",
     "text": [
      "CPU times: user 297 µs, sys: 15.1 ms, total: 15.4 ms\n",
      "Wall time: 374 ms\n"
     ]
    }
   ],
   "source": [
    "%%time\n",
    "! ./run-beam.sh >log.run 2>&1"
   ]
  },
  {
   "cell_type": "markdown",
   "metadata": {},
   "source": [
    "## Check"
   ]
  },
  {
   "cell_type": "code",
   "execution_count": 31,
   "metadata": {},
   "outputs": [
    {
     "name": "stdout",
     "output_type": "stream",
     "text": [
      "ienergy.h5  ix_divy.h5  iy_divy.h5            neutrons\r\n",
      "itof.h5     ix_y.h5     mon1-itof-focused.h5  props.json\r\n",
      "ix_divx.h5  iy_divx.h5  mon2-itof-focused.h5  \u001b[0m\u001b[01;34mrank0-step0\u001b[0m/\r\n"
     ]
    }
   ],
   "source": [
    "ls out"
   ]
  },
  {
   "cell_type": "code",
   "execution_count": 32,
   "metadata": {},
   "outputs": [],
   "source": [
    "H.plot(hh.load('out/ienergy.h5'))"
   ]
  },
  {
   "cell_type": "markdown",
   "metadata": {},
   "source": [
    "# Scattering"
   ]
  },
  {
   "cell_type": "code",
   "execution_count": 33,
   "metadata": {},
   "outputs": [
    {
     "name": "stdout",
     "output_type": "stream",
     "text": [
      "/home/97n/simulations/ARCS/Si/singlextal-diffraction/sim/scattering\n"
     ]
    }
   ],
   "source": [
    "cd {workdir}/sim/scattering"
   ]
  },
  {
   "cell_type": "code",
   "execution_count": 34,
   "metadata": {},
   "outputs": [
    {
     "name": "stdout",
     "output_type": "stream",
     "text": [
      "\u001b[0m\u001b[01;34mscripts\u001b[0m/  sim.yml  \u001b[01;34mtemplate\u001b[0m/\r\n"
     ]
    }
   ],
   "source": [
    "ls"
   ]
  },
  {
   "cell_type": "markdown",
   "metadata": {},
   "source": [
    "## Customize sim"
   ]
  },
  {
   "cell_type": "code",
   "execution_count": 77,
   "metadata": {},
   "outputs": [
    {
     "name": "stdout",
     "output_type": "stream",
     "text": [
      "Overwriting sim.yml\n"
     ]
    }
   ],
   "source": [
    "%%file sim.yml\n",
    "cluster:\n",
    "  nodes: 40\n",
    "instrument:\n",
    "  name: arcs\n",
    "scatter:\n",
    "  ncount: 1e7\n",
    "  buffer_size: 0\n",
    "  multiple_scattering: off\n",
    "  template: ./template"
   ]
  },
  {
   "cell_type": "markdown",
   "metadata": {},
   "source": [
    "## Try one angle"
   ]
  },
  {
   "cell_type": "code",
   "execution_count": 79,
   "metadata": {},
   "outputs": [],
   "source": [
    "rm -rf work_31.0/"
   ]
  },
  {
   "cell_type": "code",
   "execution_count": 80,
   "metadata": {},
   "outputs": [
    {
     "name": "stdout",
     "output_type": "stream",
     "text": [
      "ln -s ../../beam\n",
      "ln -s ../../sampleassembly\n",
      "NCOUNT=1e7 BUFFER_SIZE=0 NODES=40 SAMPLE_ANGLE=31.0 ./scatter </dev/null >log.scatter 2>&1\n",
      "INSTRUMENT=arcs NODES=40 SAMPLE_ANGLE=31.0 time ./create-nxs >log.create-nxs 2>&1\n",
      "CPU times: user 481 ms, sys: 182 ms, total: 663 ms\n",
      "Wall time: 1min 25s\n"
     ]
    }
   ],
   "source": [
    "%%time\n",
    "! ./scripts/sim.py --angle=31.0"
   ]
  },
  {
   "cell_type": "code",
   "execution_count": 81,
   "metadata": {},
   "outputs": [
    {
     "name": "stdout",
     "output_type": "stream",
     "text": [
      "work_31.0/sim_31.0_no_metadata.nxs  work_31.0/sim_31.0-with-monitors.nxs\r\n",
      "work_31.0/sim_31.0.nxs\r\n"
     ]
    }
   ],
   "source": [
    "ls work_31.0/*.nxs"
   ]
  },
  {
   "cell_type": "markdown",
   "metadata": {},
   "source": [
    "## Run all angles"
   ]
  },
  {
   "cell_type": "code",
   "execution_count": 39,
   "metadata": {},
   "outputs": [],
   "source": [
    "psi_angles = np.arange(.5, 94.6, 1.)"
   ]
  },
  {
   "cell_type": "code",
   "execution_count": 40,
   "metadata": {},
   "outputs": [
    {
     "name": "stdout",
     "output_type": "stream",
     "text": [
      "Writing create-run.py\n"
     ]
    }
   ],
   "source": [
    "%%file create-run.py\n",
    "import numpy as np\n",
    "ostream = open('run.sh', 'wt')\n",
    "for a in  np.arange(.5, 94.6, 1.):\n",
    "    ostream.write('./scripts/sim.py --angle=%s \\n' % a)\n",
    "    continue\n",
    "ostream.close()"
   ]
  },
  {
   "cell_type": "code",
   "execution_count": 41,
   "metadata": {},
   "outputs": [],
   "source": [
    "!python create-run.py"
   ]
  },
  {
   "cell_type": "code",
   "execution_count": 42,
   "metadata": {},
   "outputs": [],
   "source": [
    "!chmod +x run.sh"
   ]
  },
  {
   "cell_type": "code",
   "execution_count": 82,
   "metadata": {},
   "outputs": [],
   "source": [
    "rm -rf work_*"
   ]
  },
  {
   "cell_type": "code",
   "execution_count": 83,
   "metadata": {},
   "outputs": [
    {
     "name": "stdout",
     "output_type": "stream",
     "text": [
      "CPU times: user 47.3 s, sys: 6.65 s, total: 53.9 s\n",
      "Wall time: 2h 13min 57s\n"
     ]
    }
   ],
   "source": [
    "%%time\n",
    "!./run.sh >log.run"
   ]
  },
  {
   "cell_type": "markdown",
   "metadata": {},
   "source": [
    "# Reduction"
   ]
  },
  {
   "cell_type": "code",
   "execution_count": 44,
   "metadata": {},
   "outputs": [],
   "source": [
    "from mantid import simpleapi as msa"
   ]
  },
  {
   "cell_type": "code",
   "execution_count": 84,
   "metadata": {},
   "outputs": [
    {
     "name": "stdout",
     "output_type": "stream",
     "text": [
      "/home/97n/simulations/ARCS/Si/singlextal-diffraction/sim/scattering\n"
     ]
    }
   ],
   "source": [
    "%cd \"{workdir}/sim/scattering\""
   ]
  },
  {
   "cell_type": "code",
   "execution_count": 85,
   "metadata": {},
   "outputs": [],
   "source": [
    "nxsfiles = ['work_{}/sim_{}-with-monitors.nxs'.format(a, a) for a in psi_angles]"
   ]
  },
  {
   "cell_type": "code",
   "execution_count": 86,
   "metadata": {},
   "outputs": [
    {
     "name": "stderr",
     "output_type": "stream",
     "text": [
      "95it [03:56,  2.49s/it]\n"
     ]
    }
   ],
   "source": [
    "nxsfiles_withpsi = []\n",
    "for a, f in tqdm.tqdm(zip(psi_angles, nxsfiles)):\n",
    "    ws = msa.Load(f)\n",
    "    msa.AddSampleLog(ws, LogName='psi', LogText=str(a), LogType='Number')\n",
    "    # assert('psi' in ws.getRun().keys())\n",
    "    bn, ext = os.path.splitext(f)\n",
    "    fo = os.path.abspath('sim_{}-with_psi.nxs'.format(a))\n",
    "    msa.SaveNexus(ws, FileName=fo)\n",
    "    assert os.path.exists(fo)\n",
    "    nxsfiles_withpsi.append(fo)\n",
    "    continue"
   ]
  },
  {
   "cell_type": "code",
   "execution_count": 87,
   "metadata": {},
   "outputs": [
    {
     "name": "stdout",
     "output_type": "stream",
     "text": [
      "-rw-rw-r-- 1 97n 97n 31364620 Dec  4 13:03 /home/97n/simulations/ARCS/Si/singlextal-diffraction/sim/scattering/sim_0.5-with_psi.nxs\r\n"
     ]
    }
   ],
   "source": [
    "ls -tl {nxsfiles_withpsi[0]}"
   ]
  },
  {
   "cell_type": "code",
   "execution_count": 88,
   "metadata": {},
   "outputs": [],
   "source": [
    "wg = msa.Load(Filename=','.join(nxsfiles_withpsi))"
   ]
  },
  {
   "cell_type": "code",
   "execution_count": 89,
   "metadata": {},
   "outputs": [
    {
     "name": "stdout",
     "output_type": "stream",
     "text": [
      "CPU times: user 13min 50s, sys: 14.2 s, total: 14min 4s\n",
      "Wall time: 2min 50s\n"
     ]
    }
   ],
   "source": [
    "%%time\n",
    "msa.SetGoniometer(Workspace=wg, Axis0=\"psi,0,1,0,1\")\n",
    "\n",
    "msa.DgsReduction(\n",
    "    SampleInputWorkspace=wg, IncidentEnergyGuess=100.,\n",
    "    SofPhiEIsDistribution=False, OutputWorkspace='reduced')\n",
    "None"
   ]
  },
  {
   "cell_type": "code",
   "execution_count": 90,
   "metadata": {},
   "outputs": [],
   "source": [
    "msa.CropWorkspaceForMDNorm(\"reduced\", XMin=-50, XMax=90., OutputWorkspace='reduced')\n",
    "\n",
    "msa.ConvertToMD(\n",
    "    'reduced', \n",
    "    QDimensions='Q3D', \n",
    "    Q3DFrames='Q_sample',\n",
    "    OutputWorkspace='md',\n",
    "    MinValues='-15,-15,-15,-50',\n",
    "    MaxValues='15,15,15,90.'\n",
    ")\n",
    "None"
   ]
  },
  {
   "cell_type": "code",
   "execution_count": 91,
   "metadata": {},
   "outputs": [
    {
     "name": "stdout",
     "output_type": "stream",
     "text": [
      "CPU times: user 1min 48s, sys: 3min 10s, total: 4min 59s\n",
      "Wall time: 14.9 s\n"
     ]
    }
   ],
   "source": [
    "%%time\n",
    "msa.MergeMD(InputWorkspaces='md', OutputWorkspace='merged')\n",
    "None"
   ]
  },
  {
   "cell_type": "code",
   "execution_count": 92,
   "metadata": {},
   "outputs": [],
   "source": [
    "merged_md_path = '/home/97n/data/ARCS/silicon/10565/sim_merged_md.nxs'\n",
    "msa.SaveMD('merged', merged_md_path)"
   ]
  },
  {
   "cell_type": "markdown",
   "metadata": {},
   "source": [
    "## Load"
   ]
  },
  {
   "cell_type": "code",
   "execution_count": 45,
   "metadata": {},
   "outputs": [],
   "source": [
    "msa.LoadMD(merged_md_path, OutputWorkspace='merged')\n",
    "None"
   ]
  },
  {
   "cell_type": "markdown",
   "metadata": {},
   "source": [
    "## Slice"
   ]
  },
  {
   "cell_type": "code",
   "execution_count": 93,
   "metadata": {},
   "outputs": [],
   "source": [
    "a,b,c,alpha,beta,gamma = 5.431, 5.431, 5.431, 90., 90., 90."
   ]
  },
  {
   "cell_type": "code",
   "execution_count": 94,
   "metadata": {},
   "outputs": [],
   "source": [
    "u = [-1., 1., -1.]\n",
    "v = [2., 1., -1.]"
   ]
  },
  {
   "cell_type": "code",
   "execution_count": 95,
   "metadata": {},
   "outputs": [],
   "source": [
    "msa.SetUB('merged', a=a, b=b, c=c, u=','.join(map(str, u)), v = ','.join(map(str,v)))"
   ]
  },
  {
   "cell_type": "code",
   "execution_count": 96,
   "metadata": {},
   "outputs": [],
   "source": [
    "msa.MDNorm(\n",
    "    'merged',\n",
    "    QDimension0='1,0,0',\n",
    "    QDimension1='0,1,0',\n",
    "    QDimension2='0,0,1',\n",
    "    Dimension0Name='QDimension0',\n",
    "    Dimension0Binning='-10.0,0.1,3.4',\n",
    "    Dimension1Name='QDimension1',\n",
    "    Dimension1Binning='-9.0,0.1,7.0',\n",
    "    Dimension2Name='QDimension2',\n",
    "    Dimension2Binning='-10,10',\n",
    "    Dimension3Name=\"DeltaE\",\n",
    "    Dimension3Binning='-5,20',\n",
    "    OutputWorkspace='result',\n",
    "    OutputDataWorkspace='dataMD',\n",
    "    OutputNormalizationWorkspace='normMD'\n",
    ")\n",
    "None"
   ]
  },
  {
   "cell_type": "code",
   "execution_count": 97,
   "metadata": {},
   "outputs": [],
   "source": [
    "from mantid import plots\n",
    "from matplotlib.colors import LogNorm"
   ]
  },
  {
   "cell_type": "code",
   "execution_count": 98,
   "metadata": {},
   "outputs": [],
   "source": [
    "msa.SaveMD(msa.mtd['result'], os.path.abspath('Ihk.nxs'))"
   ]
  },
  {
   "cell_type": "code",
   "execution_count": 99,
   "metadata": {},
   "outputs": [],
   "source": [
    "Ihk = msa.LoadMD(os.path.abspath('Ihk.nxs'))"
   ]
  },
  {
   "cell_type": "code",
   "execution_count": 100,
   "metadata": {},
   "outputs": [
    {
     "data": {
      "application/javascript": [
       "/* Put everything inside the global mpl namespace */\n",
       "window.mpl = {};\n",
       "\n",
       "\n",
       "mpl.get_websocket_type = function() {\n",
       "    if (typeof(WebSocket) !== 'undefined') {\n",
       "        return WebSocket;\n",
       "    } else if (typeof(MozWebSocket) !== 'undefined') {\n",
       "        return MozWebSocket;\n",
       "    } else {\n",
       "        alert('Your browser does not have WebSocket support. ' +\n",
       "              'Please try Chrome, Safari or Firefox ≥ 6. ' +\n",
       "              'Firefox 4 and 5 are also supported but you ' +\n",
       "              'have to enable WebSockets in about:config.');\n",
       "    };\n",
       "}\n",
       "\n",
       "mpl.figure = function(figure_id, websocket, ondownload, parent_element) {\n",
       "    this.id = figure_id;\n",
       "\n",
       "    this.ws = websocket;\n",
       "\n",
       "    this.supports_binary = (this.ws.binaryType != undefined);\n",
       "\n",
       "    if (!this.supports_binary) {\n",
       "        var warnings = document.getElementById(\"mpl-warnings\");\n",
       "        if (warnings) {\n",
       "            warnings.style.display = 'block';\n",
       "            warnings.textContent = (\n",
       "                \"This browser does not support binary websocket messages. \" +\n",
       "                    \"Performance may be slow.\");\n",
       "        }\n",
       "    }\n",
       "\n",
       "    this.imageObj = new Image();\n",
       "\n",
       "    this.context = undefined;\n",
       "    this.message = undefined;\n",
       "    this.canvas = undefined;\n",
       "    this.rubberband_canvas = undefined;\n",
       "    this.rubberband_context = undefined;\n",
       "    this.format_dropdown = undefined;\n",
       "\n",
       "    this.image_mode = 'full';\n",
       "\n",
       "    this.root = $('<div/>');\n",
       "    this._root_extra_style(this.root)\n",
       "    this.root.attr('style', 'display: inline-block');\n",
       "\n",
       "    $(parent_element).append(this.root);\n",
       "\n",
       "    this._init_header(this);\n",
       "    this._init_canvas(this);\n",
       "    this._init_toolbar(this);\n",
       "\n",
       "    var fig = this;\n",
       "\n",
       "    this.waiting = false;\n",
       "\n",
       "    this.ws.onopen =  function () {\n",
       "            fig.send_message(\"supports_binary\", {value: fig.supports_binary});\n",
       "            fig.send_message(\"send_image_mode\", {});\n",
       "            if (mpl.ratio != 1) {\n",
       "                fig.send_message(\"set_dpi_ratio\", {'dpi_ratio': mpl.ratio});\n",
       "            }\n",
       "            fig.send_message(\"refresh\", {});\n",
       "        }\n",
       "\n",
       "    this.imageObj.onload = function() {\n",
       "            if (fig.image_mode == 'full') {\n",
       "                // Full images could contain transparency (where diff images\n",
       "                // almost always do), so we need to clear the canvas so that\n",
       "                // there is no ghosting.\n",
       "                fig.context.clearRect(0, 0, fig.canvas.width, fig.canvas.height);\n",
       "            }\n",
       "            fig.context.drawImage(fig.imageObj, 0, 0);\n",
       "        };\n",
       "\n",
       "    this.imageObj.onunload = function() {\n",
       "        fig.ws.close();\n",
       "    }\n",
       "\n",
       "    this.ws.onmessage = this._make_on_message_function(this);\n",
       "\n",
       "    this.ondownload = ondownload;\n",
       "}\n",
       "\n",
       "mpl.figure.prototype._init_header = function() {\n",
       "    var titlebar = $(\n",
       "        '<div class=\"ui-dialog-titlebar ui-widget-header ui-corner-all ' +\n",
       "        'ui-helper-clearfix\"/>');\n",
       "    var titletext = $(\n",
       "        '<div class=\"ui-dialog-title\" style=\"width: 100%; ' +\n",
       "        'text-align: center; padding: 3px;\"/>');\n",
       "    titlebar.append(titletext)\n",
       "    this.root.append(titlebar);\n",
       "    this.header = titletext[0];\n",
       "}\n",
       "\n",
       "\n",
       "\n",
       "mpl.figure.prototype._canvas_extra_style = function(canvas_div) {\n",
       "\n",
       "}\n",
       "\n",
       "\n",
       "mpl.figure.prototype._root_extra_style = function(canvas_div) {\n",
       "\n",
       "}\n",
       "\n",
       "mpl.figure.prototype._init_canvas = function() {\n",
       "    var fig = this;\n",
       "\n",
       "    var canvas_div = $('<div/>');\n",
       "\n",
       "    canvas_div.attr('style', 'position: relative; clear: both; outline: 0');\n",
       "\n",
       "    function canvas_keyboard_event(event) {\n",
       "        return fig.key_event(event, event['data']);\n",
       "    }\n",
       "\n",
       "    canvas_div.keydown('key_press', canvas_keyboard_event);\n",
       "    canvas_div.keyup('key_release', canvas_keyboard_event);\n",
       "    this.canvas_div = canvas_div\n",
       "    this._canvas_extra_style(canvas_div)\n",
       "    this.root.append(canvas_div);\n",
       "\n",
       "    var canvas = $('<canvas/>');\n",
       "    canvas.addClass('mpl-canvas');\n",
       "    canvas.attr('style', \"left: 0; top: 0; z-index: 0; outline: 0\")\n",
       "\n",
       "    this.canvas = canvas[0];\n",
       "    this.context = canvas[0].getContext(\"2d\");\n",
       "\n",
       "    var backingStore = this.context.backingStorePixelRatio ||\n",
       "\tthis.context.webkitBackingStorePixelRatio ||\n",
       "\tthis.context.mozBackingStorePixelRatio ||\n",
       "\tthis.context.msBackingStorePixelRatio ||\n",
       "\tthis.context.oBackingStorePixelRatio ||\n",
       "\tthis.context.backingStorePixelRatio || 1;\n",
       "\n",
       "    mpl.ratio = (window.devicePixelRatio || 1) / backingStore;\n",
       "\n",
       "    var rubberband = $('<canvas/>');\n",
       "    rubberband.attr('style', \"position: absolute; left: 0; top: 0; z-index: 1;\")\n",
       "\n",
       "    var pass_mouse_events = true;\n",
       "\n",
       "    canvas_div.resizable({\n",
       "        start: function(event, ui) {\n",
       "            pass_mouse_events = false;\n",
       "        },\n",
       "        resize: function(event, ui) {\n",
       "            fig.request_resize(ui.size.width, ui.size.height);\n",
       "        },\n",
       "        stop: function(event, ui) {\n",
       "            pass_mouse_events = true;\n",
       "            fig.request_resize(ui.size.width, ui.size.height);\n",
       "        },\n",
       "    });\n",
       "\n",
       "    function mouse_event_fn(event) {\n",
       "        if (pass_mouse_events)\n",
       "            return fig.mouse_event(event, event['data']);\n",
       "    }\n",
       "\n",
       "    rubberband.mousedown('button_press', mouse_event_fn);\n",
       "    rubberband.mouseup('button_release', mouse_event_fn);\n",
       "    // Throttle sequential mouse events to 1 every 20ms.\n",
       "    rubberband.mousemove('motion_notify', mouse_event_fn);\n",
       "\n",
       "    rubberband.mouseenter('figure_enter', mouse_event_fn);\n",
       "    rubberband.mouseleave('figure_leave', mouse_event_fn);\n",
       "\n",
       "    canvas_div.on(\"wheel\", function (event) {\n",
       "        event = event.originalEvent;\n",
       "        event['data'] = 'scroll'\n",
       "        if (event.deltaY < 0) {\n",
       "            event.step = 1;\n",
       "        } else {\n",
       "            event.step = -1;\n",
       "        }\n",
       "        mouse_event_fn(event);\n",
       "    });\n",
       "\n",
       "    canvas_div.append(canvas);\n",
       "    canvas_div.append(rubberband);\n",
       "\n",
       "    this.rubberband = rubberband;\n",
       "    this.rubberband_canvas = rubberband[0];\n",
       "    this.rubberband_context = rubberband[0].getContext(\"2d\");\n",
       "    this.rubberband_context.strokeStyle = \"#000000\";\n",
       "\n",
       "    this._resize_canvas = function(width, height) {\n",
       "        // Keep the size of the canvas, canvas container, and rubber band\n",
       "        // canvas in synch.\n",
       "        canvas_div.css('width', width)\n",
       "        canvas_div.css('height', height)\n",
       "\n",
       "        canvas.attr('width', width * mpl.ratio);\n",
       "        canvas.attr('height', height * mpl.ratio);\n",
       "        canvas.attr('style', 'width: ' + width + 'px; height: ' + height + 'px;');\n",
       "\n",
       "        rubberband.attr('width', width);\n",
       "        rubberband.attr('height', height);\n",
       "    }\n",
       "\n",
       "    // Set the figure to an initial 600x600px, this will subsequently be updated\n",
       "    // upon first draw.\n",
       "    this._resize_canvas(600, 600);\n",
       "\n",
       "    // Disable right mouse context menu.\n",
       "    $(this.rubberband_canvas).bind(\"contextmenu\",function(e){\n",
       "        return false;\n",
       "    });\n",
       "\n",
       "    function set_focus () {\n",
       "        canvas.focus();\n",
       "        canvas_div.focus();\n",
       "    }\n",
       "\n",
       "    window.setTimeout(set_focus, 100);\n",
       "}\n",
       "\n",
       "mpl.figure.prototype._init_toolbar = function() {\n",
       "    var fig = this;\n",
       "\n",
       "    var nav_element = $('<div/>');\n",
       "    nav_element.attr('style', 'width: 100%');\n",
       "    this.root.append(nav_element);\n",
       "\n",
       "    // Define a callback function for later on.\n",
       "    function toolbar_event(event) {\n",
       "        return fig.toolbar_button_onclick(event['data']);\n",
       "    }\n",
       "    function toolbar_mouse_event(event) {\n",
       "        return fig.toolbar_button_onmouseover(event['data']);\n",
       "    }\n",
       "\n",
       "    for(var toolbar_ind in mpl.toolbar_items) {\n",
       "        var name = mpl.toolbar_items[toolbar_ind][0];\n",
       "        var tooltip = mpl.toolbar_items[toolbar_ind][1];\n",
       "        var image = mpl.toolbar_items[toolbar_ind][2];\n",
       "        var method_name = mpl.toolbar_items[toolbar_ind][3];\n",
       "\n",
       "        if (!name) {\n",
       "            // put a spacer in here.\n",
       "            continue;\n",
       "        }\n",
       "        var button = $('<button/>');\n",
       "        button.addClass('ui-button ui-widget ui-state-default ui-corner-all ' +\n",
       "                        'ui-button-icon-only');\n",
       "        button.attr('role', 'button');\n",
       "        button.attr('aria-disabled', 'false');\n",
       "        button.click(method_name, toolbar_event);\n",
       "        button.mouseover(tooltip, toolbar_mouse_event);\n",
       "\n",
       "        var icon_img = $('<span/>');\n",
       "        icon_img.addClass('ui-button-icon-primary ui-icon');\n",
       "        icon_img.addClass(image);\n",
       "        icon_img.addClass('ui-corner-all');\n",
       "\n",
       "        var tooltip_span = $('<span/>');\n",
       "        tooltip_span.addClass('ui-button-text');\n",
       "        tooltip_span.html(tooltip);\n",
       "\n",
       "        button.append(icon_img);\n",
       "        button.append(tooltip_span);\n",
       "\n",
       "        nav_element.append(button);\n",
       "    }\n",
       "\n",
       "    var fmt_picker_span = $('<span/>');\n",
       "\n",
       "    var fmt_picker = $('<select/>');\n",
       "    fmt_picker.addClass('mpl-toolbar-option ui-widget ui-widget-content');\n",
       "    fmt_picker_span.append(fmt_picker);\n",
       "    nav_element.append(fmt_picker_span);\n",
       "    this.format_dropdown = fmt_picker[0];\n",
       "\n",
       "    for (var ind in mpl.extensions) {\n",
       "        var fmt = mpl.extensions[ind];\n",
       "        var option = $(\n",
       "            '<option/>', {selected: fmt === mpl.default_extension}).html(fmt);\n",
       "        fmt_picker.append(option);\n",
       "    }\n",
       "\n",
       "    // Add hover states to the ui-buttons\n",
       "    $( \".ui-button\" ).hover(\n",
       "        function() { $(this).addClass(\"ui-state-hover\");},\n",
       "        function() { $(this).removeClass(\"ui-state-hover\");}\n",
       "    );\n",
       "\n",
       "    var status_bar = $('<span class=\"mpl-message\"/>');\n",
       "    nav_element.append(status_bar);\n",
       "    this.message = status_bar[0];\n",
       "}\n",
       "\n",
       "mpl.figure.prototype.request_resize = function(x_pixels, y_pixels) {\n",
       "    // Request matplotlib to resize the figure. Matplotlib will then trigger a resize in the client,\n",
       "    // which will in turn request a refresh of the image.\n",
       "    this.send_message('resize', {'width': x_pixels, 'height': y_pixels});\n",
       "}\n",
       "\n",
       "mpl.figure.prototype.send_message = function(type, properties) {\n",
       "    properties['type'] = type;\n",
       "    properties['figure_id'] = this.id;\n",
       "    this.ws.send(JSON.stringify(properties));\n",
       "}\n",
       "\n",
       "mpl.figure.prototype.send_draw_message = function() {\n",
       "    if (!this.waiting) {\n",
       "        this.waiting = true;\n",
       "        this.ws.send(JSON.stringify({type: \"draw\", figure_id: this.id}));\n",
       "    }\n",
       "}\n",
       "\n",
       "\n",
       "mpl.figure.prototype.handle_save = function(fig, msg) {\n",
       "    var format_dropdown = fig.format_dropdown;\n",
       "    var format = format_dropdown.options[format_dropdown.selectedIndex].value;\n",
       "    fig.ondownload(fig, format);\n",
       "}\n",
       "\n",
       "\n",
       "mpl.figure.prototype.handle_resize = function(fig, msg) {\n",
       "    var size = msg['size'];\n",
       "    if (size[0] != fig.canvas.width || size[1] != fig.canvas.height) {\n",
       "        fig._resize_canvas(size[0], size[1]);\n",
       "        fig.send_message(\"refresh\", {});\n",
       "    };\n",
       "}\n",
       "\n",
       "mpl.figure.prototype.handle_rubberband = function(fig, msg) {\n",
       "    var x0 = msg['x0'] / mpl.ratio;\n",
       "    var y0 = (fig.canvas.height - msg['y0']) / mpl.ratio;\n",
       "    var x1 = msg['x1'] / mpl.ratio;\n",
       "    var y1 = (fig.canvas.height - msg['y1']) / mpl.ratio;\n",
       "    x0 = Math.floor(x0) + 0.5;\n",
       "    y0 = Math.floor(y0) + 0.5;\n",
       "    x1 = Math.floor(x1) + 0.5;\n",
       "    y1 = Math.floor(y1) + 0.5;\n",
       "    var min_x = Math.min(x0, x1);\n",
       "    var min_y = Math.min(y0, y1);\n",
       "    var width = Math.abs(x1 - x0);\n",
       "    var height = Math.abs(y1 - y0);\n",
       "\n",
       "    fig.rubberband_context.clearRect(\n",
       "        0, 0, fig.canvas.width / mpl.ratio, fig.canvas.height / mpl.ratio);\n",
       "\n",
       "    fig.rubberband_context.strokeRect(min_x, min_y, width, height);\n",
       "}\n",
       "\n",
       "mpl.figure.prototype.handle_figure_label = function(fig, msg) {\n",
       "    // Updates the figure title.\n",
       "    fig.header.textContent = msg['label'];\n",
       "}\n",
       "\n",
       "mpl.figure.prototype.handle_cursor = function(fig, msg) {\n",
       "    var cursor = msg['cursor'];\n",
       "    switch(cursor)\n",
       "    {\n",
       "    case 0:\n",
       "        cursor = 'pointer';\n",
       "        break;\n",
       "    case 1:\n",
       "        cursor = 'default';\n",
       "        break;\n",
       "    case 2:\n",
       "        cursor = 'crosshair';\n",
       "        break;\n",
       "    case 3:\n",
       "        cursor = 'move';\n",
       "        break;\n",
       "    }\n",
       "    fig.rubberband_canvas.style.cursor = cursor;\n",
       "}\n",
       "\n",
       "mpl.figure.prototype.handle_message = function(fig, msg) {\n",
       "    fig.message.textContent = msg['message'];\n",
       "}\n",
       "\n",
       "mpl.figure.prototype.handle_draw = function(fig, msg) {\n",
       "    // Request the server to send over a new figure.\n",
       "    fig.send_draw_message();\n",
       "}\n",
       "\n",
       "mpl.figure.prototype.handle_image_mode = function(fig, msg) {\n",
       "    fig.image_mode = msg['mode'];\n",
       "}\n",
       "\n",
       "mpl.figure.prototype.updated_canvas_event = function() {\n",
       "    // Called whenever the canvas gets updated.\n",
       "    this.send_message(\"ack\", {});\n",
       "}\n",
       "\n",
       "// A function to construct a web socket function for onmessage handling.\n",
       "// Called in the figure constructor.\n",
       "mpl.figure.prototype._make_on_message_function = function(fig) {\n",
       "    return function socket_on_message(evt) {\n",
       "        if (evt.data instanceof Blob) {\n",
       "            /* FIXME: We get \"Resource interpreted as Image but\n",
       "             * transferred with MIME type text/plain:\" errors on\n",
       "             * Chrome.  But how to set the MIME type?  It doesn't seem\n",
       "             * to be part of the websocket stream */\n",
       "            evt.data.type = \"image/png\";\n",
       "\n",
       "            /* Free the memory for the previous frames */\n",
       "            if (fig.imageObj.src) {\n",
       "                (window.URL || window.webkitURL).revokeObjectURL(\n",
       "                    fig.imageObj.src);\n",
       "            }\n",
       "\n",
       "            fig.imageObj.src = (window.URL || window.webkitURL).createObjectURL(\n",
       "                evt.data);\n",
       "            fig.updated_canvas_event();\n",
       "            fig.waiting = false;\n",
       "            return;\n",
       "        }\n",
       "        else if (typeof evt.data === 'string' && evt.data.slice(0, 21) == \"data:image/png;base64\") {\n",
       "            fig.imageObj.src = evt.data;\n",
       "            fig.updated_canvas_event();\n",
       "            fig.waiting = false;\n",
       "            return;\n",
       "        }\n",
       "\n",
       "        var msg = JSON.parse(evt.data);\n",
       "        var msg_type = msg['type'];\n",
       "\n",
       "        // Call the  \"handle_{type}\" callback, which takes\n",
       "        // the figure and JSON message as its only arguments.\n",
       "        try {\n",
       "            var callback = fig[\"handle_\" + msg_type];\n",
       "        } catch (e) {\n",
       "            console.log(\"No handler for the '\" + msg_type + \"' message type: \", msg);\n",
       "            return;\n",
       "        }\n",
       "\n",
       "        if (callback) {\n",
       "            try {\n",
       "                // console.log(\"Handling '\" + msg_type + \"' message: \", msg);\n",
       "                callback(fig, msg);\n",
       "            } catch (e) {\n",
       "                console.log(\"Exception inside the 'handler_\" + msg_type + \"' callback:\", e, e.stack, msg);\n",
       "            }\n",
       "        }\n",
       "    };\n",
       "}\n",
       "\n",
       "// from http://stackoverflow.com/questions/1114465/getting-mouse-location-in-canvas\n",
       "mpl.findpos = function(e) {\n",
       "    //this section is from http://www.quirksmode.org/js/events_properties.html\n",
       "    var targ;\n",
       "    if (!e)\n",
       "        e = window.event;\n",
       "    if (e.target)\n",
       "        targ = e.target;\n",
       "    else if (e.srcElement)\n",
       "        targ = e.srcElement;\n",
       "    if (targ.nodeType == 3) // defeat Safari bug\n",
       "        targ = targ.parentNode;\n",
       "\n",
       "    // jQuery normalizes the pageX and pageY\n",
       "    // pageX,Y are the mouse positions relative to the document\n",
       "    // offset() returns the position of the element relative to the document\n",
       "    var x = e.pageX - $(targ).offset().left;\n",
       "    var y = e.pageY - $(targ).offset().top;\n",
       "\n",
       "    return {\"x\": x, \"y\": y};\n",
       "};\n",
       "\n",
       "/*\n",
       " * return a copy of an object with only non-object keys\n",
       " * we need this to avoid circular references\n",
       " * http://stackoverflow.com/a/24161582/3208463\n",
       " */\n",
       "function simpleKeys (original) {\n",
       "  return Object.keys(original).reduce(function (obj, key) {\n",
       "    if (typeof original[key] !== 'object')\n",
       "        obj[key] = original[key]\n",
       "    return obj;\n",
       "  }, {});\n",
       "}\n",
       "\n",
       "mpl.figure.prototype.mouse_event = function(event, name) {\n",
       "    var canvas_pos = mpl.findpos(event)\n",
       "\n",
       "    if (name === 'button_press')\n",
       "    {\n",
       "        this.canvas.focus();\n",
       "        this.canvas_div.focus();\n",
       "    }\n",
       "\n",
       "    var x = canvas_pos.x * mpl.ratio;\n",
       "    var y = canvas_pos.y * mpl.ratio;\n",
       "\n",
       "    this.send_message(name, {x: x, y: y, button: event.button,\n",
       "                             step: event.step,\n",
       "                             guiEvent: simpleKeys(event)});\n",
       "\n",
       "    /* This prevents the web browser from automatically changing to\n",
       "     * the text insertion cursor when the button is pressed.  We want\n",
       "     * to control all of the cursor setting manually through the\n",
       "     * 'cursor' event from matplotlib */\n",
       "    event.preventDefault();\n",
       "    return false;\n",
       "}\n",
       "\n",
       "mpl.figure.prototype._key_event_extra = function(event, name) {\n",
       "    // Handle any extra behaviour associated with a key event\n",
       "}\n",
       "\n",
       "mpl.figure.prototype.key_event = function(event, name) {\n",
       "\n",
       "    // Prevent repeat events\n",
       "    if (name == 'key_press')\n",
       "    {\n",
       "        if (event.which === this._key)\n",
       "            return;\n",
       "        else\n",
       "            this._key = event.which;\n",
       "    }\n",
       "    if (name == 'key_release')\n",
       "        this._key = null;\n",
       "\n",
       "    var value = '';\n",
       "    if (event.ctrlKey && event.which != 17)\n",
       "        value += \"ctrl+\";\n",
       "    if (event.altKey && event.which != 18)\n",
       "        value += \"alt+\";\n",
       "    if (event.shiftKey && event.which != 16)\n",
       "        value += \"shift+\";\n",
       "\n",
       "    value += 'k';\n",
       "    value += event.which.toString();\n",
       "\n",
       "    this._key_event_extra(event, name);\n",
       "\n",
       "    this.send_message(name, {key: value,\n",
       "                             guiEvent: simpleKeys(event)});\n",
       "    return false;\n",
       "}\n",
       "\n",
       "mpl.figure.prototype.toolbar_button_onclick = function(name) {\n",
       "    if (name == 'download') {\n",
       "        this.handle_save(this, null);\n",
       "    } else {\n",
       "        this.send_message(\"toolbar_button\", {name: name});\n",
       "    }\n",
       "};\n",
       "\n",
       "mpl.figure.prototype.toolbar_button_onmouseover = function(tooltip) {\n",
       "    this.message.textContent = tooltip;\n",
       "};\n",
       "mpl.toolbar_items = [[\"Home\", \"Reset original view\", \"fa fa-home icon-home\", \"home\"], [\"Back\", \"Back to previous view\", \"fa fa-arrow-left icon-arrow-left\", \"back\"], [\"Forward\", \"Forward to next view\", \"fa fa-arrow-right icon-arrow-right\", \"forward\"], [\"\", \"\", \"\", \"\"], [\"Pan\", \"Pan axes with left mouse, zoom with right\", \"fa fa-arrows icon-move\", \"pan\"], [\"Zoom\", \"Zoom to rectangle\", \"fa fa-square-o icon-check-empty\", \"zoom\"], [\"\", \"\", \"\", \"\"], [\"Download\", \"Download plot\", \"fa fa-floppy-o icon-save\", \"download\"]];\n",
       "\n",
       "mpl.extensions = [\"eps\", \"jpeg\", \"pdf\", \"png\", \"ps\", \"raw\", \"svg\", \"tif\"];\n",
       "\n",
       "mpl.default_extension = \"png\";var comm_websocket_adapter = function(comm) {\n",
       "    // Create a \"websocket\"-like object which calls the given IPython comm\n",
       "    // object with the appropriate methods. Currently this is a non binary\n",
       "    // socket, so there is still some room for performance tuning.\n",
       "    var ws = {};\n",
       "\n",
       "    ws.close = function() {\n",
       "        comm.close()\n",
       "    };\n",
       "    ws.send = function(m) {\n",
       "        //console.log('sending', m);\n",
       "        comm.send(m);\n",
       "    };\n",
       "    // Register the callback with on_msg.\n",
       "    comm.on_msg(function(msg) {\n",
       "        //console.log('receiving', msg['content']['data'], msg);\n",
       "        // Pass the mpl event to the overridden (by mpl) onmessage function.\n",
       "        ws.onmessage(msg['content']['data'])\n",
       "    });\n",
       "    return ws;\n",
       "}\n",
       "\n",
       "mpl.mpl_figure_comm = function(comm, msg) {\n",
       "    // This is the function which gets called when the mpl process\n",
       "    // starts-up an IPython Comm through the \"matplotlib\" channel.\n",
       "\n",
       "    var id = msg.content.data.id;\n",
       "    // Get hold of the div created by the display call when the Comm\n",
       "    // socket was opened in Python.\n",
       "    var element = $(\"#\" + id);\n",
       "    var ws_proxy = comm_websocket_adapter(comm)\n",
       "\n",
       "    function ondownload(figure, format) {\n",
       "        window.open(figure.imageObj.src);\n",
       "    }\n",
       "\n",
       "    var fig = new mpl.figure(id, ws_proxy,\n",
       "                           ondownload,\n",
       "                           element.get(0));\n",
       "\n",
       "    // Call onopen now - mpl needs it, as it is assuming we've passed it a real\n",
       "    // web socket which is closed, not our websocket->open comm proxy.\n",
       "    ws_proxy.onopen();\n",
       "\n",
       "    fig.parent_element = element.get(0);\n",
       "    fig.cell_info = mpl.find_output_cell(\"<div id='\" + id + \"'></div>\");\n",
       "    if (!fig.cell_info) {\n",
       "        console.error(\"Failed to find cell for figure\", id, fig);\n",
       "        return;\n",
       "    }\n",
       "\n",
       "    var output_index = fig.cell_info[2]\n",
       "    var cell = fig.cell_info[0];\n",
       "\n",
       "};\n",
       "\n",
       "mpl.figure.prototype.handle_close = function(fig, msg) {\n",
       "    var width = fig.canvas.width/mpl.ratio\n",
       "    fig.root.unbind('remove')\n",
       "\n",
       "    // Update the output cell to use the data from the current canvas.\n",
       "    fig.push_to_output();\n",
       "    var dataURL = fig.canvas.toDataURL();\n",
       "    // Re-enable the keyboard manager in IPython - without this line, in FF,\n",
       "    // the notebook keyboard shortcuts fail.\n",
       "    IPython.keyboard_manager.enable()\n",
       "    $(fig.parent_element).html('<img src=\"' + dataURL + '\" width=\"' + width + '\">');\n",
       "    fig.close_ws(fig, msg);\n",
       "}\n",
       "\n",
       "mpl.figure.prototype.close_ws = function(fig, msg){\n",
       "    fig.send_message('closing', msg);\n",
       "    // fig.ws.close()\n",
       "}\n",
       "\n",
       "mpl.figure.prototype.push_to_output = function(remove_interactive) {\n",
       "    // Turn the data on the canvas into data in the output cell.\n",
       "    var width = this.canvas.width/mpl.ratio\n",
       "    var dataURL = this.canvas.toDataURL();\n",
       "    this.cell_info[1]['text/html'] = '<img src=\"' + dataURL + '\" width=\"' + width + '\">';\n",
       "}\n",
       "\n",
       "mpl.figure.prototype.updated_canvas_event = function() {\n",
       "    // Tell IPython that the notebook contents must change.\n",
       "    IPython.notebook.set_dirty(true);\n",
       "    this.send_message(\"ack\", {});\n",
       "    var fig = this;\n",
       "    // Wait a second, then push the new image to the DOM so\n",
       "    // that it is saved nicely (might be nice to debounce this).\n",
       "    setTimeout(function () { fig.push_to_output() }, 1000);\n",
       "}\n",
       "\n",
       "mpl.figure.prototype._init_toolbar = function() {\n",
       "    var fig = this;\n",
       "\n",
       "    var nav_element = $('<div/>');\n",
       "    nav_element.attr('style', 'width: 100%');\n",
       "    this.root.append(nav_element);\n",
       "\n",
       "    // Define a callback function for later on.\n",
       "    function toolbar_event(event) {\n",
       "        return fig.toolbar_button_onclick(event['data']);\n",
       "    }\n",
       "    function toolbar_mouse_event(event) {\n",
       "        return fig.toolbar_button_onmouseover(event['data']);\n",
       "    }\n",
       "\n",
       "    for(var toolbar_ind in mpl.toolbar_items){\n",
       "        var name = mpl.toolbar_items[toolbar_ind][0];\n",
       "        var tooltip = mpl.toolbar_items[toolbar_ind][1];\n",
       "        var image = mpl.toolbar_items[toolbar_ind][2];\n",
       "        var method_name = mpl.toolbar_items[toolbar_ind][3];\n",
       "\n",
       "        if (!name) { continue; };\n",
       "\n",
       "        var button = $('<button class=\"btn btn-default\" href=\"#\" title=\"' + name + '\"><i class=\"fa ' + image + ' fa-lg\"></i></button>');\n",
       "        button.click(method_name, toolbar_event);\n",
       "        button.mouseover(tooltip, toolbar_mouse_event);\n",
       "        nav_element.append(button);\n",
       "    }\n",
       "\n",
       "    // Add the status bar.\n",
       "    var status_bar = $('<span class=\"mpl-message\" style=\"text-align:right; float: right;\"/>');\n",
       "    nav_element.append(status_bar);\n",
       "    this.message = status_bar[0];\n",
       "\n",
       "    // Add the close button to the window.\n",
       "    var buttongrp = $('<div class=\"btn-group inline pull-right\"></div>');\n",
       "    var button = $('<button class=\"btn btn-mini btn-primary\" href=\"#\" title=\"Stop Interaction\"><i class=\"fa fa-power-off icon-remove icon-large\"></i></button>');\n",
       "    button.click(function (evt) { fig.handle_close(fig, {}); } );\n",
       "    button.mouseover('Stop Interaction', toolbar_mouse_event);\n",
       "    buttongrp.append(button);\n",
       "    var titlebar = this.root.find($('.ui-dialog-titlebar'));\n",
       "    titlebar.prepend(buttongrp);\n",
       "}\n",
       "\n",
       "mpl.figure.prototype._root_extra_style = function(el){\n",
       "    var fig = this\n",
       "    el.on(\"remove\", function(){\n",
       "\tfig.close_ws(fig, {});\n",
       "    });\n",
       "}\n",
       "\n",
       "mpl.figure.prototype._canvas_extra_style = function(el){\n",
       "    // this is important to make the div 'focusable\n",
       "    el.attr('tabindex', 0)\n",
       "    // reach out to IPython and tell the keyboard manager to turn it's self\n",
       "    // off when our div gets focus\n",
       "\n",
       "    // location in version 3\n",
       "    if (IPython.notebook.keyboard_manager) {\n",
       "        IPython.notebook.keyboard_manager.register_events(el);\n",
       "    }\n",
       "    else {\n",
       "        // location in version 2\n",
       "        IPython.keyboard_manager.register_events(el);\n",
       "    }\n",
       "\n",
       "}\n",
       "\n",
       "mpl.figure.prototype._key_event_extra = function(event, name) {\n",
       "    var manager = IPython.notebook.keyboard_manager;\n",
       "    if (!manager)\n",
       "        manager = IPython.keyboard_manager;\n",
       "\n",
       "    // Check for shift+enter\n",
       "    if (event.shiftKey && event.which == 13) {\n",
       "        this.canvas_div.blur();\n",
       "        // select the cell after this one\n",
       "        var index = IPython.notebook.find_cell_index(this.cell_info[0]);\n",
       "        IPython.notebook.select(index + 1);\n",
       "    }\n",
       "}\n",
       "\n",
       "mpl.figure.prototype.handle_save = function(fig, msg) {\n",
       "    fig.ondownload(fig, null);\n",
       "}\n",
       "\n",
       "\n",
       "mpl.find_output_cell = function(html_output) {\n",
       "    // Return the cell and output element which can be found *uniquely* in the notebook.\n",
       "    // Note - this is a bit hacky, but it is done because the \"notebook_saving.Notebook\"\n",
       "    // IPython event is triggered only after the cells have been serialised, which for\n",
       "    // our purposes (turning an active figure into a static one), is too late.\n",
       "    var cells = IPython.notebook.get_cells();\n",
       "    var ncells = cells.length;\n",
       "    for (var i=0; i<ncells; i++) {\n",
       "        var cell = cells[i];\n",
       "        if (cell.cell_type === 'code'){\n",
       "            for (var j=0; j<cell.output_area.outputs.length; j++) {\n",
       "                var data = cell.output_area.outputs[j];\n",
       "                if (data.data) {\n",
       "                    // IPython >= 3 moved mimebundle to data attribute of output\n",
       "                    data = data.data;\n",
       "                }\n",
       "                if (data['text/html'] == html_output) {\n",
       "                    return [cell, data, j];\n",
       "                }\n",
       "            }\n",
       "        }\n",
       "    }\n",
       "}\n",
       "\n",
       "// Register the function which deals with the matplotlib target/channel.\n",
       "// The kernel may be null if the page has been refreshed.\n",
       "if (IPython.notebook.kernel != null) {\n",
       "    IPython.notebook.kernel.comm_manager.register_target('matplotlib', mpl.mpl_figure_comm);\n",
       "}\n"
      ],
      "text/plain": [
       "<IPython.core.display.Javascript object>"
      ]
     },
     "metadata": {},
     "output_type": "display_data"
    },
    {
     "data": {
      "text/html": [
       "<img src=\"data:image/png;base64,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\" width=\"640\">"
      ],
      "text/plain": [
       "<IPython.core.display.HTML object>"
      ]
     },
     "metadata": {},
     "output_type": "display_data"
    }
   ],
   "source": [
    "fig, ax = plt.subplots(subplot_kw={'projection':'mantid'})\n",
    "cm = ax.pcolormesh(Ihk, norm=LogNorm())\n",
    "fig.colorbar(cm, ax=ax)\n",
    "ax.set_aspect('equal')\n",
    "ax.set_xlim(-10., 2)\n",
    "ax.set_ylim(-9, 6)\n",
    "cm.set_clim(1e-8, 1e-5)"
   ]
  },
  {
   "cell_type": "code",
   "execution_count": null,
   "metadata": {},
   "outputs": [],
   "source": []
  }
 ],
 "metadata": {
  "kernelspec": {
   "display_name": "mcvine-py36",
   "language": "python",
   "name": "mcvine-py36"
  },
  "language_info": {
   "codemirror_mode": {
    "name": "ipython",
    "version": 3
   },
   "file_extension": ".py",
   "mimetype": "text/x-python",
   "name": "python",
   "nbconvert_exporter": "python",
   "pygments_lexer": "ipython3",
   "version": "3.6.7"
  },
  "toc": {
   "base_numbering": 1,
   "nav_menu": {},
   "number_sections": true,
   "sideBar": true,
   "skip_h1_title": false,
   "title_cell": "Table of Contents",
   "title_sidebar": "Contents",
   "toc_cell": false,
   "toc_position": {},
   "toc_section_display": true,
   "toc_window_display": true
  }
 },
 "nbformat": 4,
 "nbformat_minor": 4
}
